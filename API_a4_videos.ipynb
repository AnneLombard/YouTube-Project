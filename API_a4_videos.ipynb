{
  "cells": [
    {
      "cell_type": "code",
      "execution_count": null,
      "metadata": {
        "colab": {
          "base_uri": "https://localhost:8080/"
        },
        "id": "mxLsQazF9p1I",
        "outputId": "0e357baf-e965-45f0-8269-a05f65a611be"
      },
      "outputs": [
        {
          "name": "stdout",
          "output_type": "stream",
          "text": [
            "Requirement already satisfied: matplotlib-venn in /usr/local/lib/python3.10/dist-packages (1.1.1)\n",
            "Requirement already satisfied: matplotlib in /usr/local/lib/python3.10/dist-packages (from matplotlib-venn) (3.8.0)\n",
            "Requirement already satisfied: numpy in /usr/local/lib/python3.10/dist-packages (from matplotlib-venn) (1.26.4)\n",
            "Requirement already satisfied: scipy in /usr/local/lib/python3.10/dist-packages (from matplotlib-venn) (1.13.1)\n",
            "Requirement already satisfied: contourpy>=1.0.1 in /usr/local/lib/python3.10/dist-packages (from matplotlib->matplotlib-venn) (1.3.1)\n",
            "Requirement already satisfied: cycler>=0.10 in /usr/local/lib/python3.10/dist-packages (from matplotlib->matplotlib-venn) (0.12.1)\n",
            "Requirement already satisfied: fonttools>=4.22.0 in /usr/local/lib/python3.10/dist-packages (from matplotlib->matplotlib-venn) (4.55.3)\n",
            "Requirement already satisfied: kiwisolver>=1.0.1 in /usr/local/lib/python3.10/dist-packages (from matplotlib->matplotlib-venn) (1.4.7)\n",
            "Requirement already satisfied: packaging>=20.0 in /usr/local/lib/python3.10/dist-packages (from matplotlib->matplotlib-venn) (24.2)\n",
            "Requirement already satisfied: pillow>=6.2.0 in /usr/local/lib/python3.10/dist-packages (from matplotlib->matplotlib-venn) (11.0.0)\n",
            "Requirement already satisfied: pyparsing>=2.3.1 in /usr/local/lib/python3.10/dist-packages (from matplotlib->matplotlib-venn) (3.2.0)\n",
            "Requirement already satisfied: python-dateutil>=2.7 in /usr/local/lib/python3.10/dist-packages (from matplotlib->matplotlib-venn) (2.8.2)\n",
            "Requirement already satisfied: six>=1.5 in /usr/local/lib/python3.10/dist-packages (from python-dateutil>=2.7->matplotlib->matplotlib-venn) (1.17.0)\n",
            "Requirement already satisfied: isodate in /usr/local/lib/python3.10/dist-packages (0.7.2)\n",
            "Nombre de vidéos récupérées : 496\n",
            "Nombre de vidéos avec détails récupérées : 496\n",
            "Aperçu des données :       Video ID                                              Title  \\\n",
            "0  RAiNZqEdegQ        Экстремальные Прятки от ЭЛИТНОГО СПЕЦНАЗА !   \n",
            "1  UW9ZCdZsFDc                    When mom says she’s almost home   \n",
            "2  cMCV8-9qpwM              Don’t choose the wrong window 🪟🏃🏻‍♂️❌   \n",
            "3  oA_e_s_wuwc  How Many Layers of Duct Tape Does It Take to S...   \n",
            "4  -WAM1JAPIw4                     Выживаю в КИТАЕ на 1$ ! День 3   \n",
            "\n",
            "                                         Description        Published Date  \\\n",
            "0  Встречай новогодние Вайбики в Бургер Кинг! Пок...  2024-12-13T12:00:24Z   \n",
            "1                    When mom says she’s almost home  2024-12-11T14:18:48Z   \n",
            "2              Don’t choose the wrong window 🪟🏃🏻‍♂️❌  2024-12-04T13:36:31Z   \n",
            "3  How Many Layers of Duct Tape Does It Take to S...  2024-12-02T12:30:48Z   \n",
            "4  Если вы хотите такие же крутые шмотки как у Ма...  2024-11-29T12:30:00Z   \n",
            "\n",
            "                                                Tags    Views   Likes  \\\n",
            "0                                                     2590270   88129   \n",
            "1  Stokes twins, Mrbeast, Fede, mark rober, Airra...  1249650   61112   \n",
            "2  Stokes twins, Mrbeast, Fede, mark rober, Airra...  2671212  108442   \n",
            "3  Stokes twins, Mrbeast, Fede, mark rober, Airra...  2641864  141381   \n",
            "4  a4, Stokes, Stokestwins, sunset park, stokes t...  3063077   74553   \n",
            "\n",
            "  Comments Duration  Product Placement  \n",
            "0    16186    24:36              False  \n",
            "1     1684    00:28              False  \n",
            "2     2260    00:28              False  \n",
            "3     1968    00:29              False  \n",
            "4     9118    27:24              False  \n",
            "Les données ont été exportées dans 'a4_videos_with_placements.csv'.\n"
          ]
        }
      ],
      "source": [
        "!pip install matplotlib-venn\n",
        "!pip install isodate\n",
        "import requests\n",
        "import pandas as pd\n",
        "import isodate\n",
        "\n",
        "\n",
        "API_KEY = \"API key\"\n",
        "\n",
        "SEARCH_URL = \"https://www.googleapis.com/youtube/v3/search\"\n",
        "VIDEO_DETAILS_URL = \"https://www.googleapis.com/youtube/v3/videos\"\n",
        "channel_id = \"UC2tsySbe9TNrI-xh2lximHA\"  # ID de la chaîne cible\n",
        "\n",
        "video_ids = []\n",
        "next_page_token = None\n",
        "\n",
        "\n",
        "while True:\n",
        "    search_params = {\n",
        "        'part': 'snippet',\n",
        "        'channelId': channel_id,\n",
        "        'maxResults': 50,\n",
        "        'order': 'date',\n",
        "        'type': 'video',\n",
        "        'pageToken': next_page_token,\n",
        "        'key': API_KEY,\n",
        "    }\n",
        "    response = requests.get(SEARCH_URL, params=search_params)\n",
        "    search_data = response.json()\n",
        "\n",
        "    if 'items' not in search_data:\n",
        "        print(\"Erreur dans la récupération des vidéos :\", search_data)\n",
        "        break\n",
        "\n",
        "    video_ids.extend([item['id']['videoId'] for item in search_data['items']])\n",
        "\n",
        "    next_page_token = search_data.get('nextPageToken')\n",
        "    if not next_page_token:\n",
        "        break\n",
        "\n",
        "print(f\"Nombre de vidéos récupérées : {len(video_ids)}\")\n",
        "\n",
        "video_details = []\n",
        "\n",
        "def format_duration(iso_duration):\n",
        "    \"\"\"Formater la durée ISO 8601 en un format lisible (MM:SS).\"\"\"\n",
        "    try:\n",
        "        duration = isodate.parse_duration(iso_duration)\n",
        "        total_seconds = int(duration.total_seconds())\n",
        "        minutes, seconds = divmod(total_seconds, 60)\n",
        "        return f\"{minutes:02}:{seconds:02}\"\n",
        "    except:\n",
        "        return \"N/A\"\n",
        "\n",
        "for i in range(0, len(video_ids), 50):\n",
        "    video_id_chunk = \",\".join(video_ids[i:i+50])\n",
        "    details_params = {\n",
        "        'part': 'snippet,statistics,contentDetails',\n",
        "        'id': video_id_chunk,\n",
        "        'key': API_KEY,\n",
        "    }\n",
        "    details_response = requests.get(VIDEO_DETAILS_URL, params=details_params)\n",
        "    details_data = details_response.json()\n",
        "\n",
        "    if 'items' not in details_data:\n",
        "        print(\"Erreur dans la récupération des détails :\", details_data)\n",
        "        continue\n",
        "\n",
        "    for video in details_data['items']:\n",
        "        snippet = video['snippet']\n",
        "        statistics = video.get('statistics', {})\n",
        "        content_details = video.get('contentDetails', {})\n",
        "\n",
        "        video_details.append({\n",
        "            'Video ID': video['id'],\n",
        "            'Title': snippet['title'],\n",
        "            'Description': snippet['description'],\n",
        "            'Published Date': snippet['publishedAt'],\n",
        "            'Tags': \", \".join(snippet.get('tags', [])),\n",
        "            'Views': statistics.get('viewCount', 'N/A'),\n",
        "            'Likes': statistics.get('likeCount', 'N/A'),\n",
        "            'Comments': statistics.get('commentCount', 'N/A'),\n",
        "            'Duration': format_duration(content_details.get('duration', 'N/A')),\n",
        "            'Product Placement': content_details.get('hasCustomThumbnail', False)\n",
        "        })\n",
        "\n",
        "print(f\"Nombre de vidéos avec détails récupérées : {len(video_details)}\")\n",
        "\n",
        "if video_details:\n",
        "    df = pd.DataFrame(video_details)\n",
        "    print(\"Aperçu des données :\", df.head())\n",
        "    df.to_csv(\"a4_videos_with_placements.csv\", index=False)\n",
        "    print(\"Les données ont été exportées dans 'a4_videos_with_placements.csv'.\")\n",
        "else:\n",
        "    print(\"Aucune donnée à exporter.\")\n"
      ]
    },
    {
      "cell_type": "code",
      "execution_count": null,
      "metadata": {
        "colab": {
          "base_uri": "https://localhost:8080/"
        },
        "id": "GdJoHVWJaOw3",
        "outputId": "91cc8f01-734c-4867-d2cb-6f1f3f0ad0fd"
      },
      "outputs": [
        {
          "name": "stdout",
          "output_type": "stream",
          "text": [
            "<class 'pandas.core.frame.DataFrame'>\n",
            "RangeIndex: 496 entries, 0 to 495\n",
            "Data columns (total 10 columns):\n",
            " #   Column             Non-Null Count  Dtype \n",
            "---  ------             --------------  ----- \n",
            " 0   Video ID           496 non-null    object\n",
            " 1   Title              496 non-null    object\n",
            " 2   Description        496 non-null    object\n",
            " 3   Published Date     496 non-null    object\n",
            " 4   Tags               496 non-null    object\n",
            " 5   Views              496 non-null    object\n",
            " 6   Likes              496 non-null    object\n",
            " 7   Comments           496 non-null    object\n",
            " 8   Duration           496 non-null    object\n",
            " 9   Product Placement  496 non-null    bool  \n",
            "dtypes: bool(1), object(9)\n",
            "memory usage: 35.5+ KB\n"
          ]
        }
      ],
      "source": [
        "df.info()"
      ]
    },
    {
      "cell_type": "code",
      "execution_count": null,
      "metadata": {
        "colab": {
          "base_uri": "https://localhost:8080/"
        },
        "id": "eM4iANYnaR2Q",
        "outputId": "913ced68-d533-4664-d255-c1f0068464a3"
      },
      "outputs": [
        {
          "name": "stdout",
          "output_type": "stream",
          "text": [
            "<class 'pandas.core.frame.DataFrame'>\n",
            "RangeIndex: 496 entries, 0 to 495\n",
            "Data columns (total 10 columns):\n",
            " #   Column             Non-Null Count  Dtype              \n",
            "---  ------             --------------  -----              \n",
            " 0   Video ID           496 non-null    object             \n",
            " 1   Title              496 non-null    object             \n",
            " 2   Description        496 non-null    object             \n",
            " 3   Published Date     496 non-null    datetime64[ns, UTC]\n",
            " 4   Tags               496 non-null    object             \n",
            " 5   Views              496 non-null    int64              \n",
            " 6   Likes              496 non-null    int64              \n",
            " 7   Comments           496 non-null    object             \n",
            " 8   Duration           496 non-null    object             \n",
            " 9   Product Placement  496 non-null    bool               \n",
            "dtypes: bool(1), datetime64[ns, UTC](1), int64(2), object(6)\n",
            "memory usage: 35.5+ KB\n"
          ]
        }
      ],
      "source": [
        "# change dtypes \"Published Date\", \"Views\", \"Likes\"\n",
        "df_clean = df.copy()\n",
        "df_clean[[\"Views\", \"Likes\"]] = df_clean[[\"Views\", \"Likes\"]].astype(int)\n",
        "df_clean[\"Published Date\"] = pd.to_datetime(df_clean[\"Published Date\"])\n",
        "df_clean.info()"
      ]
    },
    {
      "cell_type": "code",
      "execution_count": null,
      "metadata": {
        "colab": {
          "base_uri": "https://localhost:8080/"
        },
        "id": "ONs5VQnSbjBP",
        "outputId": "09fa260f-0b66-40be-aa1f-841c1f8d7a48"
      },
      "outputs": [
        {
          "name": "stdout",
          "output_type": "stream",
          "text": [
            "<class 'pandas.core.frame.DataFrame'>\n",
            "RangeIndex: 496 entries, 0 to 495\n",
            "Data columns (total 9 columns):\n",
            " #   Column             Non-Null Count  Dtype              \n",
            "---  ------             --------------  -----              \n",
            " 0   Video ID           496 non-null    object             \n",
            " 1   Title              496 non-null    object             \n",
            " 2   Published Date     496 non-null    datetime64[ns, UTC]\n",
            " 3   Tags               496 non-null    object             \n",
            " 4   Views              496 non-null    int64              \n",
            " 5   Likes              496 non-null    int64              \n",
            " 6   Comments           496 non-null    object             \n",
            " 7   Duration           496 non-null    object             \n",
            " 8   Product Placement  496 non-null    bool               \n",
            "dtypes: bool(1), datetime64[ns, UTC](1), int64(2), object(5)\n",
            "memory usage: 31.6+ KB\n"
          ]
        }
      ],
      "source": [
        "# error downloading dataframe in big query\n",
        "# solution: drop \"Description\" column (emojis)\n",
        "df_clean = df_clean.drop(\"Description\", axis=1)\n",
        "df_clean.info()"
      ]
    },
    {
      "cell_type": "code",
      "execution_count": null,
      "metadata": {
        "id": "hP9zaqODb40r"
      },
      "outputs": [],
      "source": [
        "df_clean.to_csv(\"a4_videos.csv\", index= False)"
      ]
    }
  ],
  "metadata": {
    "colab": {
      "provenance": []
    },
    "kernelspec": {
      "display_name": "Python 3",
      "name": "python3"
    },
    "language_info": {
      "name": "python"
    }
  },
  "nbformat": 4,
  "nbformat_minor": 0
}
