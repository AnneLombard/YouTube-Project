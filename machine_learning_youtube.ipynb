{
  "nbformat": 4,
  "nbformat_minor": 0,
  "metadata": {
    "colab": {
      "provenance": []
    },
    "kernelspec": {
      "name": "python3",
      "display_name": "Python 3"
    },
    "language_info": {
      "name": "python"
    }
  },
  "cells": [
    {
      "cell_type": "code",
      "execution_count": null,
      "metadata": {
        "id": "1KorvX0DH0wD"
      },
      "outputs": [],
      "source": [
        "import pandas as pd\n",
        "import numpy as np\n",
        "import matplotlib.pyplot as plt\n",
        "import seaborn as sns"
      ]
    },
    {
      "cell_type": "code",
      "source": [
        "df = pd.read_csv('/content/union_all.csv')\n",
        "df.head()"
      ],
      "metadata": {
        "colab": {
          "base_uri": "https://localhost:8080/",
          "height": 445
        },
        "id": "iOWGGJuHIcU1",
        "outputId": "4b0d7f2a-a31b-4f17-f466-eb1f85b31d8f"
      },
      "execution_count": null,
      "outputs": [
        {
          "output_type": "execute_result",
          "data": {
            "text/plain": [
              "      video_id categoryId_string              publishedAt  view_count   likes  \\\n",
              "0  9dKZeL2UbUM             Music  2024-12-06 11:00:06 UTC     1164446   80104   \n",
              "1  Dw-HGGAgxAU             Music  2024-12-03 23:34:04 UTC      655669   47657   \n",
              "2  I0jHbsidh1g             Music  2024-11-27 10:00:07 UTC     3931247  175534   \n",
              "3  NynGk2fUbIA             Music  2024-12-10 12:00:23 UTC      177900   18976   \n",
              "4  GhWIgc1Cgxg             Music  2024-11-28 17:00:14 UTC     1266129   49932   \n",
              "\n",
              "   comment_count                                  thumbnail_link  \\\n",
              "0           2117  https://i.ytimg.com/vi/9dKZeL2UbUM/default.jpg   \n",
              "1           4241  https://i.ytimg.com/vi/Dw-HGGAgxAU/default.jpg   \n",
              "2           3745  https://i.ytimg.com/vi/I0jHbsidh1g/default.jpg   \n",
              "3           2203  https://i.ytimg.com/vi/NynGk2fUbIA/default.jpg   \n",
              "4           1947  https://i.ytimg.com/vi/GhWIgc1Cgxg/default.jpg   \n",
              "\n",
              "   comments_disabled trending_date channelTitle  \\\n",
              "0              False    2024-12-12          Ado   \n",
              "1              False    2024-12-12          DDG   \n",
              "2              False    2024-12-12          Eve   \n",
              "3              False    2024-12-12          JO1   \n",
              "4              False    2024-12-12          SCH   \n",
              "\n",
              "                                               title pays  \n",
              "0                                     【Ado】Episode X   JP  \n",
              "1  DDG - Handling Business “Freestyle” (Official ...   US  \n",
              "2                        lazy cat  – Eve Music Video   JP  \n",
              "3  JO1 | 'Love & Hate' - 2024 JO1 JAM感謝祭~SUMMER F...   JP  \n",
              "4                                     SCH - La pluie   FR  "
            ],
            "text/html": [
              "\n",
              "  <div id=\"df-e66b0f72-b560-446c-b1f1-b861045e3ef1\" class=\"colab-df-container\">\n",
              "    <div>\n",
              "<style scoped>\n",
              "    .dataframe tbody tr th:only-of-type {\n",
              "        vertical-align: middle;\n",
              "    }\n",
              "\n",
              "    .dataframe tbody tr th {\n",
              "        vertical-align: top;\n",
              "    }\n",
              "\n",
              "    .dataframe thead th {\n",
              "        text-align: right;\n",
              "    }\n",
              "</style>\n",
              "<table border=\"1\" class=\"dataframe\">\n",
              "  <thead>\n",
              "    <tr style=\"text-align: right;\">\n",
              "      <th></th>\n",
              "      <th>video_id</th>\n",
              "      <th>categoryId_string</th>\n",
              "      <th>publishedAt</th>\n",
              "      <th>view_count</th>\n",
              "      <th>likes</th>\n",
              "      <th>comment_count</th>\n",
              "      <th>thumbnail_link</th>\n",
              "      <th>comments_disabled</th>\n",
              "      <th>trending_date</th>\n",
              "      <th>channelTitle</th>\n",
              "      <th>title</th>\n",
              "      <th>pays</th>\n",
              "    </tr>\n",
              "  </thead>\n",
              "  <tbody>\n",
              "    <tr>\n",
              "      <th>0</th>\n",
              "      <td>9dKZeL2UbUM</td>\n",
              "      <td>Music</td>\n",
              "      <td>2024-12-06 11:00:06 UTC</td>\n",
              "      <td>1164446</td>\n",
              "      <td>80104</td>\n",
              "      <td>2117</td>\n",
              "      <td>https://i.ytimg.com/vi/9dKZeL2UbUM/default.jpg</td>\n",
              "      <td>False</td>\n",
              "      <td>2024-12-12</td>\n",
              "      <td>Ado</td>\n",
              "      <td>【Ado】Episode X</td>\n",
              "      <td>JP</td>\n",
              "    </tr>\n",
              "    <tr>\n",
              "      <th>1</th>\n",
              "      <td>Dw-HGGAgxAU</td>\n",
              "      <td>Music</td>\n",
              "      <td>2024-12-03 23:34:04 UTC</td>\n",
              "      <td>655669</td>\n",
              "      <td>47657</td>\n",
              "      <td>4241</td>\n",
              "      <td>https://i.ytimg.com/vi/Dw-HGGAgxAU/default.jpg</td>\n",
              "      <td>False</td>\n",
              "      <td>2024-12-12</td>\n",
              "      <td>DDG</td>\n",
              "      <td>DDG - Handling Business “Freestyle” (Official ...</td>\n",
              "      <td>US</td>\n",
              "    </tr>\n",
              "    <tr>\n",
              "      <th>2</th>\n",
              "      <td>I0jHbsidh1g</td>\n",
              "      <td>Music</td>\n",
              "      <td>2024-11-27 10:00:07 UTC</td>\n",
              "      <td>3931247</td>\n",
              "      <td>175534</td>\n",
              "      <td>3745</td>\n",
              "      <td>https://i.ytimg.com/vi/I0jHbsidh1g/default.jpg</td>\n",
              "      <td>False</td>\n",
              "      <td>2024-12-12</td>\n",
              "      <td>Eve</td>\n",
              "      <td>lazy cat  – Eve Music Video</td>\n",
              "      <td>JP</td>\n",
              "    </tr>\n",
              "    <tr>\n",
              "      <th>3</th>\n",
              "      <td>NynGk2fUbIA</td>\n",
              "      <td>Music</td>\n",
              "      <td>2024-12-10 12:00:23 UTC</td>\n",
              "      <td>177900</td>\n",
              "      <td>18976</td>\n",
              "      <td>2203</td>\n",
              "      <td>https://i.ytimg.com/vi/NynGk2fUbIA/default.jpg</td>\n",
              "      <td>False</td>\n",
              "      <td>2024-12-12</td>\n",
              "      <td>JO1</td>\n",
              "      <td>JO1 | 'Love &amp; Hate' - 2024 JO1 JAM感謝祭~SUMMER F...</td>\n",
              "      <td>JP</td>\n",
              "    </tr>\n",
              "    <tr>\n",
              "      <th>4</th>\n",
              "      <td>GhWIgc1Cgxg</td>\n",
              "      <td>Music</td>\n",
              "      <td>2024-11-28 17:00:14 UTC</td>\n",
              "      <td>1266129</td>\n",
              "      <td>49932</td>\n",
              "      <td>1947</td>\n",
              "      <td>https://i.ytimg.com/vi/GhWIgc1Cgxg/default.jpg</td>\n",
              "      <td>False</td>\n",
              "      <td>2024-12-12</td>\n",
              "      <td>SCH</td>\n",
              "      <td>SCH - La pluie</td>\n",
              "      <td>FR</td>\n",
              "    </tr>\n",
              "  </tbody>\n",
              "</table>\n",
              "</div>\n",
              "    <div class=\"colab-df-buttons\">\n",
              "\n",
              "  <div class=\"colab-df-container\">\n",
              "    <button class=\"colab-df-convert\" onclick=\"convertToInteractive('df-e66b0f72-b560-446c-b1f1-b861045e3ef1')\"\n",
              "            title=\"Convert this dataframe to an interactive table.\"\n",
              "            style=\"display:none;\">\n",
              "\n",
              "  <svg xmlns=\"http://www.w3.org/2000/svg\" height=\"24px\" viewBox=\"0 -960 960 960\">\n",
              "    <path d=\"M120-120v-720h720v720H120Zm60-500h600v-160H180v160Zm220 220h160v-160H400v160Zm0 220h160v-160H400v160ZM180-400h160v-160H180v160Zm440 0h160v-160H620v160ZM180-180h160v-160H180v160Zm440 0h160v-160H620v160Z\"/>\n",
              "  </svg>\n",
              "    </button>\n",
              "\n",
              "  <style>\n",
              "    .colab-df-container {\n",
              "      display:flex;\n",
              "      gap: 12px;\n",
              "    }\n",
              "\n",
              "    .colab-df-convert {\n",
              "      background-color: #E8F0FE;\n",
              "      border: none;\n",
              "      border-radius: 50%;\n",
              "      cursor: pointer;\n",
              "      display: none;\n",
              "      fill: #1967D2;\n",
              "      height: 32px;\n",
              "      padding: 0 0 0 0;\n",
              "      width: 32px;\n",
              "    }\n",
              "\n",
              "    .colab-df-convert:hover {\n",
              "      background-color: #E2EBFA;\n",
              "      box-shadow: 0px 1px 2px rgba(60, 64, 67, 0.3), 0px 1px 3px 1px rgba(60, 64, 67, 0.15);\n",
              "      fill: #174EA6;\n",
              "    }\n",
              "\n",
              "    .colab-df-buttons div {\n",
              "      margin-bottom: 4px;\n",
              "    }\n",
              "\n",
              "    [theme=dark] .colab-df-convert {\n",
              "      background-color: #3B4455;\n",
              "      fill: #D2E3FC;\n",
              "    }\n",
              "\n",
              "    [theme=dark] .colab-df-convert:hover {\n",
              "      background-color: #434B5C;\n",
              "      box-shadow: 0px 1px 3px 1px rgba(0, 0, 0, 0.15);\n",
              "      filter: drop-shadow(0px 1px 2px rgba(0, 0, 0, 0.3));\n",
              "      fill: #FFFFFF;\n",
              "    }\n",
              "  </style>\n",
              "\n",
              "    <script>\n",
              "      const buttonEl =\n",
              "        document.querySelector('#df-e66b0f72-b560-446c-b1f1-b861045e3ef1 button.colab-df-convert');\n",
              "      buttonEl.style.display =\n",
              "        google.colab.kernel.accessAllowed ? 'block' : 'none';\n",
              "\n",
              "      async function convertToInteractive(key) {\n",
              "        const element = document.querySelector('#df-e66b0f72-b560-446c-b1f1-b861045e3ef1');\n",
              "        const dataTable =\n",
              "          await google.colab.kernel.invokeFunction('convertToInteractive',\n",
              "                                                    [key], {});\n",
              "        if (!dataTable) return;\n",
              "\n",
              "        const docLinkHtml = 'Like what you see? Visit the ' +\n",
              "          '<a target=\"_blank\" href=https://colab.research.google.com/notebooks/data_table.ipynb>data table notebook</a>'\n",
              "          + ' to learn more about interactive tables.';\n",
              "        element.innerHTML = '';\n",
              "        dataTable['output_type'] = 'display_data';\n",
              "        await google.colab.output.renderOutput(dataTable, element);\n",
              "        const docLink = document.createElement('div');\n",
              "        docLink.innerHTML = docLinkHtml;\n",
              "        element.appendChild(docLink);\n",
              "      }\n",
              "    </script>\n",
              "  </div>\n",
              "\n",
              "\n",
              "<div id=\"df-6bb575ea-d3d5-4071-807b-3df4bb39e59f\">\n",
              "  <button class=\"colab-df-quickchart\" onclick=\"quickchart('df-6bb575ea-d3d5-4071-807b-3df4bb39e59f')\"\n",
              "            title=\"Suggest charts\"\n",
              "            style=\"display:none;\">\n",
              "\n",
              "<svg xmlns=\"http://www.w3.org/2000/svg\" height=\"24px\"viewBox=\"0 0 24 24\"\n",
              "     width=\"24px\">\n",
              "    <g>\n",
              "        <path d=\"M19 3H5c-1.1 0-2 .9-2 2v14c0 1.1.9 2 2 2h14c1.1 0 2-.9 2-2V5c0-1.1-.9-2-2-2zM9 17H7v-7h2v7zm4 0h-2V7h2v10zm4 0h-2v-4h2v4z\"/>\n",
              "    </g>\n",
              "</svg>\n",
              "  </button>\n",
              "\n",
              "<style>\n",
              "  .colab-df-quickchart {\n",
              "      --bg-color: #E8F0FE;\n",
              "      --fill-color: #1967D2;\n",
              "      --hover-bg-color: #E2EBFA;\n",
              "      --hover-fill-color: #174EA6;\n",
              "      --disabled-fill-color: #AAA;\n",
              "      --disabled-bg-color: #DDD;\n",
              "  }\n",
              "\n",
              "  [theme=dark] .colab-df-quickchart {\n",
              "      --bg-color: #3B4455;\n",
              "      --fill-color: #D2E3FC;\n",
              "      --hover-bg-color: #434B5C;\n",
              "      --hover-fill-color: #FFFFFF;\n",
              "      --disabled-bg-color: #3B4455;\n",
              "      --disabled-fill-color: #666;\n",
              "  }\n",
              "\n",
              "  .colab-df-quickchart {\n",
              "    background-color: var(--bg-color);\n",
              "    border: none;\n",
              "    border-radius: 50%;\n",
              "    cursor: pointer;\n",
              "    display: none;\n",
              "    fill: var(--fill-color);\n",
              "    height: 32px;\n",
              "    padding: 0;\n",
              "    width: 32px;\n",
              "  }\n",
              "\n",
              "  .colab-df-quickchart:hover {\n",
              "    background-color: var(--hover-bg-color);\n",
              "    box-shadow: 0 1px 2px rgba(60, 64, 67, 0.3), 0 1px 3px 1px rgba(60, 64, 67, 0.15);\n",
              "    fill: var(--button-hover-fill-color);\n",
              "  }\n",
              "\n",
              "  .colab-df-quickchart-complete:disabled,\n",
              "  .colab-df-quickchart-complete:disabled:hover {\n",
              "    background-color: var(--disabled-bg-color);\n",
              "    fill: var(--disabled-fill-color);\n",
              "    box-shadow: none;\n",
              "  }\n",
              "\n",
              "  .colab-df-spinner {\n",
              "    border: 2px solid var(--fill-color);\n",
              "    border-color: transparent;\n",
              "    border-bottom-color: var(--fill-color);\n",
              "    animation:\n",
              "      spin 1s steps(1) infinite;\n",
              "  }\n",
              "\n",
              "  @keyframes spin {\n",
              "    0% {\n",
              "      border-color: transparent;\n",
              "      border-bottom-color: var(--fill-color);\n",
              "      border-left-color: var(--fill-color);\n",
              "    }\n",
              "    20% {\n",
              "      border-color: transparent;\n",
              "      border-left-color: var(--fill-color);\n",
              "      border-top-color: var(--fill-color);\n",
              "    }\n",
              "    30% {\n",
              "      border-color: transparent;\n",
              "      border-left-color: var(--fill-color);\n",
              "      border-top-color: var(--fill-color);\n",
              "      border-right-color: var(--fill-color);\n",
              "    }\n",
              "    40% {\n",
              "      border-color: transparent;\n",
              "      border-right-color: var(--fill-color);\n",
              "      border-top-color: var(--fill-color);\n",
              "    }\n",
              "    60% {\n",
              "      border-color: transparent;\n",
              "      border-right-color: var(--fill-color);\n",
              "    }\n",
              "    80% {\n",
              "      border-color: transparent;\n",
              "      border-right-color: var(--fill-color);\n",
              "      border-bottom-color: var(--fill-color);\n",
              "    }\n",
              "    90% {\n",
              "      border-color: transparent;\n",
              "      border-bottom-color: var(--fill-color);\n",
              "    }\n",
              "  }\n",
              "</style>\n",
              "\n",
              "  <script>\n",
              "    async function quickchart(key) {\n",
              "      const quickchartButtonEl =\n",
              "        document.querySelector('#' + key + ' button');\n",
              "      quickchartButtonEl.disabled = true;  // To prevent multiple clicks.\n",
              "      quickchartButtonEl.classList.add('colab-df-spinner');\n",
              "      try {\n",
              "        const charts = await google.colab.kernel.invokeFunction(\n",
              "            'suggestCharts', [key], {});\n",
              "      } catch (error) {\n",
              "        console.error('Error during call to suggestCharts:', error);\n",
              "      }\n",
              "      quickchartButtonEl.classList.remove('colab-df-spinner');\n",
              "      quickchartButtonEl.classList.add('colab-df-quickchart-complete');\n",
              "    }\n",
              "    (() => {\n",
              "      let quickchartButtonEl =\n",
              "        document.querySelector('#df-6bb575ea-d3d5-4071-807b-3df4bb39e59f button');\n",
              "      quickchartButtonEl.style.display =\n",
              "        google.colab.kernel.accessAllowed ? 'block' : 'none';\n",
              "    })();\n",
              "  </script>\n",
              "</div>\n",
              "\n",
              "    </div>\n",
              "  </div>\n"
            ],
            "application/vnd.google.colaboratory.intrinsic+json": {
              "type": "dataframe",
              "variable_name": "df",
              "summary": "{\n  \"name\": \"df\",\n  \"rows\": 1824,\n  \"fields\": [\n    {\n      \"column\": \"video_id\",\n      \"properties\": {\n        \"dtype\": \"string\",\n        \"num_unique_values\": 1391,\n        \"samples\": [\n          \"vMhpetGW--A\",\n          \"OFAow6fL0A0\",\n          \"H1ZWPqx18ow\"\n        ],\n        \"semantic_type\": \"\",\n        \"description\": \"\"\n      }\n    },\n    {\n      \"column\": \"categoryId_string\",\n      \"properties\": {\n        \"dtype\": \"category\",\n        \"num_unique_values\": 15,\n        \"samples\": [\n          \"News & Politics\",\n          \"Autos & Vehicles\",\n          \"Music\"\n        ],\n        \"semantic_type\": \"\",\n        \"description\": \"\"\n      }\n    },\n    {\n      \"column\": \"publishedAt\",\n      \"properties\": {\n        \"dtype\": \"object\",\n        \"num_unique_values\": 1364,\n        \"samples\": [\n          \"2024-12-08 20:45:00 UTC\",\n          \"2024-12-10 10:00:38 UTC\",\n          \"2024-12-04 20:21:05 UTC\"\n        ],\n        \"semantic_type\": \"\",\n        \"description\": \"\"\n      }\n    },\n    {\n      \"column\": \"view_count\",\n      \"properties\": {\n        \"dtype\": \"number\",\n        \"std\": 9126174,\n        \"min\": 0,\n        \"max\": 143857460,\n        \"num_unique_values\": 1407,\n        \"samples\": [\n          1243456,\n          1425710,\n          147859\n        ],\n        \"semantic_type\": \"\",\n        \"description\": \"\"\n      }\n    },\n    {\n      \"column\": \"likes\",\n      \"properties\": {\n        \"dtype\": \"number\",\n        \"std\": 382984,\n        \"min\": 0,\n        \"max\": 6345116,\n        \"num_unique_values\": 1393,\n        \"samples\": [\n          113977,\n          19306,\n          18924\n        ],\n        \"semantic_type\": \"\",\n        \"description\": \"\"\n      }\n    },\n    {\n      \"column\": \"comment_count\",\n      \"properties\": {\n        \"dtype\": \"number\",\n        \"std\": 13743,\n        \"min\": 0,\n        \"max\": 145924,\n        \"num_unique_values\": 1148,\n        \"samples\": [\n          1719,\n          613,\n          250\n        ],\n        \"semantic_type\": \"\",\n        \"description\": \"\"\n      }\n    },\n    {\n      \"column\": \"thumbnail_link\",\n      \"properties\": {\n        \"dtype\": \"string\",\n        \"num_unique_values\": 1391,\n        \"samples\": [\n          \"https://i.ytimg.com/vi/vMhpetGW--A/default.jpg\",\n          \"https://i.ytimg.com/vi/OFAow6fL0A0/default.jpg\",\n          \"https://i.ytimg.com/vi/H1ZWPqx18ow/default.jpg\"\n        ],\n        \"semantic_type\": \"\",\n        \"description\": \"\"\n      }\n    },\n    {\n      \"column\": \"comments_disabled\",\n      \"properties\": {\n        \"dtype\": \"boolean\",\n        \"num_unique_values\": 2,\n        \"samples\": [\n          true,\n          false\n        ],\n        \"semantic_type\": \"\",\n        \"description\": \"\"\n      }\n    },\n    {\n      \"column\": \"trending_date\",\n      \"properties\": {\n        \"dtype\": \"object\",\n        \"num_unique_values\": 1,\n        \"samples\": [\n          \"2024-12-12\"\n        ],\n        \"semantic_type\": \"\",\n        \"description\": \"\"\n      }\n    },\n    {\n      \"column\": \"channelTitle\",\n      \"properties\": {\n        \"dtype\": \"string\",\n        \"num_unique_values\": 1163,\n        \"samples\": [\n          \"Mashura Basheer\"\n        ],\n        \"semantic_type\": \"\",\n        \"description\": \"\"\n      }\n    },\n    {\n      \"column\": \"title\",\n      \"properties\": {\n        \"dtype\": \"string\",\n        \"num_unique_values\": 1391,\n        \"samples\": [\n          \"Triste fallecimiento de Sandra Reyes: el legado de la doctora Paula y otros personajes\"\n        ],\n        \"semantic_type\": \"\",\n        \"description\": \"\"\n      }\n    },\n    {\n      \"column\": \"pays\",\n      \"properties\": {\n        \"dtype\": \"category\",\n        \"num_unique_values\": 10,\n        \"samples\": [\n          \"IN\"\n        ],\n        \"semantic_type\": \"\",\n        \"description\": \"\"\n      }\n    }\n  ]\n}"
            }
          },
          "metadata": {},
          "execution_count": 30
        }
      ]
    },
    {
      "cell_type": "code",
      "source": [
        "df.info()"
      ],
      "metadata": {
        "colab": {
          "base_uri": "https://localhost:8080/"
        },
        "id": "QgW7yDAVJv9J",
        "outputId": "58c62b3e-7306-4ed9-c9fb-3ce26a472c41"
      },
      "execution_count": null,
      "outputs": [
        {
          "output_type": "stream",
          "name": "stdout",
          "text": [
            "<class 'pandas.core.frame.DataFrame'>\n",
            "RangeIndex: 1824 entries, 0 to 1823\n",
            "Data columns (total 12 columns):\n",
            " #   Column             Non-Null Count  Dtype \n",
            "---  ------             --------------  ----- \n",
            " 0   video_id           1824 non-null   object\n",
            " 1   categoryId_string  1824 non-null   object\n",
            " 2   publishedAt        1824 non-null   object\n",
            " 3   view_count         1824 non-null   int64 \n",
            " 4   likes              1824 non-null   int64 \n",
            " 5   comment_count      1824 non-null   int64 \n",
            " 6   thumbnail_link     1824 non-null   object\n",
            " 7   comments_disabled  1824 non-null   bool  \n",
            " 8   trending_date      1824 non-null   object\n",
            " 9   channelTitle       1824 non-null   object\n",
            " 10  title              1824 non-null   object\n",
            " 11  pays               1824 non-null   object\n",
            "dtypes: bool(1), int64(3), object(8)\n",
            "memory usage: 158.7+ KB\n"
          ]
        }
      ]
    },
    {
      "cell_type": "code",
      "source": [
        "X = df[[\"likes\", \"comment_count\"]]\n",
        "y = df[\"view_count\"]"
      ],
      "metadata": {
        "id": "sNDds3yCJ3jh"
      },
      "execution_count": null,
      "outputs": []
    },
    {
      "cell_type": "code",
      "source": [
        "from sklearn.model_selection import train_test_split\n",
        "\n",
        "X_train, X_test, y_train, y_test = train_test_split(X, y, test_size=0.2, random_state=42)"
      ],
      "metadata": {
        "id": "w5YwNgOFKmYl"
      },
      "execution_count": null,
      "outputs": []
    },
    {
      "cell_type": "code",
      "source": [
        "from sklearn.preprocessing import StandardScaler\n",
        "\n",
        "scaler = StandardScaler()\n",
        "X_train_scaled = scaler.fit_transform(X_train)\n",
        "X_test_scaled = scaler.transform(X_test)"
      ],
      "metadata": {
        "id": "8v0vdtHXK4wp"
      },
      "execution_count": null,
      "outputs": []
    },
    {
      "cell_type": "code",
      "source": [
        "from sklearn.linear_model import LinearRegression\n",
        "\n",
        "model = LinearRegression().fit(X_train_scaled, y_train)"
      ],
      "metadata": {
        "id": "SV1g1Hz2LC8I"
      },
      "execution_count": null,
      "outputs": []
    },
    {
      "cell_type": "code",
      "source": [
        "from sklearn.metrics import mean_squared_error, mean_absolute_error\n",
        "\n",
        "r2 = model.score(X_train_scaled, y_train)\n",
        "from sklearn.metrics import mean_squared_error, mean_absolute_error\n",
        "\n",
        "r2 = model.score(X_train_scaled, y_train)\n",
        "train_pred_model = model.predict(X_train_scaled)\n",
        "\n",
        "mse = mean_squared_error(y_true=y_train, y_pred=train_pred_model)\n",
        "mae = mean_absolute_error(y_true=y_train, y_pred=train_pred_model)\n",
        "\n",
        "print(f\"{r2=}\")\n",
        "print(f\"{mse=}\")\n",
        "print(f\"{mae=}\")\n"
      ],
      "metadata": {
        "colab": {
          "base_uri": "https://localhost:8080/"
        },
        "id": "SrYHQbhCLRln",
        "outputId": "dd76f7c0-ac15-43ec-b6b3-b194505ffe33"
      },
      "execution_count": null,
      "outputs": [
        {
          "output_type": "stream",
          "name": "stdout",
          "text": [
            "r2=0.8619168441839402\n",
            "mse=13599138783612.436\n",
            "mae=1178434.4747378326\n"
          ]
        }
      ]
    },
    {
      "cell_type": "code",
      "source": [
        "import numpy as np\n",
        "\n",
        "new = np.array([[7757, 141]])\n",
        "\n",
        "new_scaled = scaler.transform(new)\n",
        "\n",
        "prediction_views = model.predict(new_scaled)\n",
        "\n",
        "prediction_views"
      ],
      "metadata": {
        "colab": {
          "base_uri": "https://localhost:8080/"
        },
        "id": "2qy0JxlxMXxm",
        "outputId": "28039048-2f39-47e3-c822-3b86bd350fd9"
      },
      "execution_count": null,
      "outputs": [
        {
          "output_type": "stream",
          "name": "stderr",
          "text": [
            "/usr/local/lib/python3.10/dist-packages/sklearn/base.py:493: UserWarning: X does not have valid feature names, but StandardScaler was fitted with feature names\n",
            "  warnings.warn(\n"
          ]
        },
        {
          "output_type": "execute_result",
          "data": {
            "text/plain": [
              "array([603693.32775038])"
            ]
          },
          "metadata": {},
          "execution_count": 37
        }
      ]
    },
    {
      "cell_type": "code",
      "source": [
        "#Calcul des gains estimés (the average made from ads is $1 per 1000 views)\n",
        "pred_earning = prediction_views / 1000\n",
        "pred_earning"
      ],
      "metadata": {
        "colab": {
          "base_uri": "https://localhost:8080/"
        },
        "id": "o_LiSwTAcBuU",
        "outputId": "08b6b122-78e5-49df-f653-8f5af5f1ebcd"
      },
      "execution_count": null,
      "outputs": [
        {
          "output_type": "execute_result",
          "data": {
            "text/plain": [
              "array([603.69332775])"
            ]
          },
          "metadata": {},
          "execution_count": 38
        }
      ]
    },
    {
      "cell_type": "code",
      "source": [
        "f'{pred_earning[0]:.2f}$'"
      ],
      "metadata": {
        "id": "kBnnqHhupL1Z",
        "colab": {
          "base_uri": "https://localhost:8080/",
          "height": 35
        },
        "outputId": "a7a3ab0c-8827-4bd5-f4dc-3fc737f90b8f"
      },
      "execution_count": null,
      "outputs": [
        {
          "output_type": "execute_result",
          "data": {
            "text/plain": [
              "'603.69$'"
            ],
            "application/vnd.google.colaboratory.intrinsic+json": {
              "type": "string"
            }
          },
          "metadata": {},
          "execution_count": 39
        }
      ]
    },
    {
      "cell_type": "code",
      "source": [
        "# C'est important que l'utilisateur mette les deux valeurs séparées par un vergule\n",
        "\n",
        "data = input(\"Please give two\")\n",
        "\n",
        "input_numeric = [float(i) for i in data.split(\",\")]\n",
        "\n",
        "new = np.array([input_numeric])\n",
        "\n",
        "new_scaled = scaler.transform(new)\n",
        "\n",
        "prediction = model.predict(new_scaled)\n",
        "\n",
        "prediction"
      ],
      "metadata": {
        "colab": {
          "base_uri": "https://localhost:8080/"
        },
        "id": "w_Xfx8FdcZDq",
        "outputId": "5bdc6b96-1f4e-4dd5-ab3f-d128bacd9aa7"
      },
      "execution_count": null,
      "outputs": [
        {
          "name": "stdout",
          "output_type": "stream",
          "text": [
            "Please give two29292,234\n"
          ]
        },
        {
          "output_type": "stream",
          "name": "stderr",
          "text": [
            "/usr/local/lib/python3.10/dist-packages/sklearn/base.py:493: UserWarning: X does not have valid feature names, but StandardScaler was fitted with feature names\n",
            "  warnings.warn(\n"
          ]
        },
        {
          "output_type": "execute_result",
          "data": {
            "text/plain": [
              "array([1070530.64167403])"
            ]
          },
          "metadata": {},
          "execution_count": 40
        }
      ]
    },
    {
      "cell_type": "code",
      "source": [
        "model.predict([[-1.63768542e-01, -2.07492331e-01]])"
      ],
      "metadata": {
        "collapsed": true,
        "id": "_XwYRDWra3Jb",
        "colab": {
          "base_uri": "https://localhost:8080/"
        },
        "outputId": "98e11d70-742b-49b6-ce5f-761fa2ac5bb3"
      },
      "execution_count": null,
      "outputs": [
        {
          "output_type": "execute_result",
          "data": {
            "text/plain": [
              "array([1140732.4919267])"
            ]
          },
          "metadata": {},
          "execution_count": 41
        }
      ]
    },
    {
      "cell_type": "code",
      "source": [
        "pred_model = model.predict(X_test_scaled)"
      ],
      "metadata": {
        "id": "QtBPTloQMLr5"
      },
      "execution_count": null,
      "outputs": []
    },
    {
      "cell_type": "code",
      "source": [
        "r2 = model.score(X_test_scaled, y_test)\n",
        "mse = mean_squared_error(y_true=y_test, y_pred=pred_model)\n",
        "mae = mean_absolute_error(y_true=y_test, y_pred=pred_model)\n",
        "\n",
        "print(f\"{r2=}\")\n",
        "print(f\"{mse=}\")\n",
        "print(f\"{mae=}\")"
      ],
      "metadata": {
        "id": "ccZVnKCNMs6J",
        "colab": {
          "base_uri": "https://localhost:8080/"
        },
        "outputId": "99709eb6-8ba1-4072-ee01-835585ac1617"
      },
      "execution_count": null,
      "outputs": [
        {
          "output_type": "stream",
          "name": "stdout",
          "text": [
            "r2=0.626547815333667\n",
            "mse=8215288026539.419\n",
            "mae=1062669.4268491261\n"
          ]
        }
      ]
    },
    {
      "cell_type": "code",
      "source": [
        "model_2 = LinearRegression()\n",
        "model_2.fit(X_train_scaled, y_train)"
      ],
      "metadata": {
        "id": "B2oSFCiWPsW1",
        "colab": {
          "base_uri": "https://localhost:8080/",
          "height": 80
        },
        "outputId": "d3dfd794-bd9c-485c-e780-8cf2d1adcfd0"
      },
      "execution_count": null,
      "outputs": [
        {
          "output_type": "execute_result",
          "data": {
            "text/plain": [
              "LinearRegression()"
            ],
            "text/html": [
              "<style>#sk-container-id-1 {\n",
              "  /* Definition of color scheme common for light and dark mode */\n",
              "  --sklearn-color-text: black;\n",
              "  --sklearn-color-line: gray;\n",
              "  /* Definition of color scheme for unfitted estimators */\n",
              "  --sklearn-color-unfitted-level-0: #fff5e6;\n",
              "  --sklearn-color-unfitted-level-1: #f6e4d2;\n",
              "  --sklearn-color-unfitted-level-2: #ffe0b3;\n",
              "  --sklearn-color-unfitted-level-3: chocolate;\n",
              "  /* Definition of color scheme for fitted estimators */\n",
              "  --sklearn-color-fitted-level-0: #f0f8ff;\n",
              "  --sklearn-color-fitted-level-1: #d4ebff;\n",
              "  --sklearn-color-fitted-level-2: #b3dbfd;\n",
              "  --sklearn-color-fitted-level-3: cornflowerblue;\n",
              "\n",
              "  /* Specific color for light theme */\n",
              "  --sklearn-color-text-on-default-background: var(--sg-text-color, var(--theme-code-foreground, var(--jp-content-font-color1, black)));\n",
              "  --sklearn-color-background: var(--sg-background-color, var(--theme-background, var(--jp-layout-color0, white)));\n",
              "  --sklearn-color-border-box: var(--sg-text-color, var(--theme-code-foreground, var(--jp-content-font-color1, black)));\n",
              "  --sklearn-color-icon: #696969;\n",
              "\n",
              "  @media (prefers-color-scheme: dark) {\n",
              "    /* Redefinition of color scheme for dark theme */\n",
              "    --sklearn-color-text-on-default-background: var(--sg-text-color, var(--theme-code-foreground, var(--jp-content-font-color1, white)));\n",
              "    --sklearn-color-background: var(--sg-background-color, var(--theme-background, var(--jp-layout-color0, #111)));\n",
              "    --sklearn-color-border-box: var(--sg-text-color, var(--theme-code-foreground, var(--jp-content-font-color1, white)));\n",
              "    --sklearn-color-icon: #878787;\n",
              "  }\n",
              "}\n",
              "\n",
              "#sk-container-id-1 {\n",
              "  color: var(--sklearn-color-text);\n",
              "}\n",
              "\n",
              "#sk-container-id-1 pre {\n",
              "  padding: 0;\n",
              "}\n",
              "\n",
              "#sk-container-id-1 input.sk-hidden--visually {\n",
              "  border: 0;\n",
              "  clip: rect(1px 1px 1px 1px);\n",
              "  clip: rect(1px, 1px, 1px, 1px);\n",
              "  height: 1px;\n",
              "  margin: -1px;\n",
              "  overflow: hidden;\n",
              "  padding: 0;\n",
              "  position: absolute;\n",
              "  width: 1px;\n",
              "}\n",
              "\n",
              "#sk-container-id-1 div.sk-dashed-wrapped {\n",
              "  border: 1px dashed var(--sklearn-color-line);\n",
              "  margin: 0 0.4em 0.5em 0.4em;\n",
              "  box-sizing: border-box;\n",
              "  padding-bottom: 0.4em;\n",
              "  background-color: var(--sklearn-color-background);\n",
              "}\n",
              "\n",
              "#sk-container-id-1 div.sk-container {\n",
              "  /* jupyter's `normalize.less` sets `[hidden] { display: none; }`\n",
              "     but bootstrap.min.css set `[hidden] { display: none !important; }`\n",
              "     so we also need the `!important` here to be able to override the\n",
              "     default hidden behavior on the sphinx rendered scikit-learn.org.\n",
              "     See: https://github.com/scikit-learn/scikit-learn/issues/21755 */\n",
              "  display: inline-block !important;\n",
              "  position: relative;\n",
              "}\n",
              "\n",
              "#sk-container-id-1 div.sk-text-repr-fallback {\n",
              "  display: none;\n",
              "}\n",
              "\n",
              "div.sk-parallel-item,\n",
              "div.sk-serial,\n",
              "div.sk-item {\n",
              "  /* draw centered vertical line to link estimators */\n",
              "  background-image: linear-gradient(var(--sklearn-color-text-on-default-background), var(--sklearn-color-text-on-default-background));\n",
              "  background-size: 2px 100%;\n",
              "  background-repeat: no-repeat;\n",
              "  background-position: center center;\n",
              "}\n",
              "\n",
              "/* Parallel-specific style estimator block */\n",
              "\n",
              "#sk-container-id-1 div.sk-parallel-item::after {\n",
              "  content: \"\";\n",
              "  width: 100%;\n",
              "  border-bottom: 2px solid var(--sklearn-color-text-on-default-background);\n",
              "  flex-grow: 1;\n",
              "}\n",
              "\n",
              "#sk-container-id-1 div.sk-parallel {\n",
              "  display: flex;\n",
              "  align-items: stretch;\n",
              "  justify-content: center;\n",
              "  background-color: var(--sklearn-color-background);\n",
              "  position: relative;\n",
              "}\n",
              "\n",
              "#sk-container-id-1 div.sk-parallel-item {\n",
              "  display: flex;\n",
              "  flex-direction: column;\n",
              "}\n",
              "\n",
              "#sk-container-id-1 div.sk-parallel-item:first-child::after {\n",
              "  align-self: flex-end;\n",
              "  width: 50%;\n",
              "}\n",
              "\n",
              "#sk-container-id-1 div.sk-parallel-item:last-child::after {\n",
              "  align-self: flex-start;\n",
              "  width: 50%;\n",
              "}\n",
              "\n",
              "#sk-container-id-1 div.sk-parallel-item:only-child::after {\n",
              "  width: 0;\n",
              "}\n",
              "\n",
              "/* Serial-specific style estimator block */\n",
              "\n",
              "#sk-container-id-1 div.sk-serial {\n",
              "  display: flex;\n",
              "  flex-direction: column;\n",
              "  align-items: center;\n",
              "  background-color: var(--sklearn-color-background);\n",
              "  padding-right: 1em;\n",
              "  padding-left: 1em;\n",
              "}\n",
              "\n",
              "\n",
              "/* Toggleable style: style used for estimator/Pipeline/ColumnTransformer box that is\n",
              "clickable and can be expanded/collapsed.\n",
              "- Pipeline and ColumnTransformer use this feature and define the default style\n",
              "- Estimators will overwrite some part of the style using the `sk-estimator` class\n",
              "*/\n",
              "\n",
              "/* Pipeline and ColumnTransformer style (default) */\n",
              "\n",
              "#sk-container-id-1 div.sk-toggleable {\n",
              "  /* Default theme specific background. It is overwritten whether we have a\n",
              "  specific estimator or a Pipeline/ColumnTransformer */\n",
              "  background-color: var(--sklearn-color-background);\n",
              "}\n",
              "\n",
              "/* Toggleable label */\n",
              "#sk-container-id-1 label.sk-toggleable__label {\n",
              "  cursor: pointer;\n",
              "  display: block;\n",
              "  width: 100%;\n",
              "  margin-bottom: 0;\n",
              "  padding: 0.5em;\n",
              "  box-sizing: border-box;\n",
              "  text-align: center;\n",
              "}\n",
              "\n",
              "#sk-container-id-1 label.sk-toggleable__label-arrow:before {\n",
              "  /* Arrow on the left of the label */\n",
              "  content: \"▸\";\n",
              "  float: left;\n",
              "  margin-right: 0.25em;\n",
              "  color: var(--sklearn-color-icon);\n",
              "}\n",
              "\n",
              "#sk-container-id-1 label.sk-toggleable__label-arrow:hover:before {\n",
              "  color: var(--sklearn-color-text);\n",
              "}\n",
              "\n",
              "/* Toggleable content - dropdown */\n",
              "\n",
              "#sk-container-id-1 div.sk-toggleable__content {\n",
              "  max-height: 0;\n",
              "  max-width: 0;\n",
              "  overflow: hidden;\n",
              "  text-align: left;\n",
              "  /* unfitted */\n",
              "  background-color: var(--sklearn-color-unfitted-level-0);\n",
              "}\n",
              "\n",
              "#sk-container-id-1 div.sk-toggleable__content.fitted {\n",
              "  /* fitted */\n",
              "  background-color: var(--sklearn-color-fitted-level-0);\n",
              "}\n",
              "\n",
              "#sk-container-id-1 div.sk-toggleable__content pre {\n",
              "  margin: 0.2em;\n",
              "  border-radius: 0.25em;\n",
              "  color: var(--sklearn-color-text);\n",
              "  /* unfitted */\n",
              "  background-color: var(--sklearn-color-unfitted-level-0);\n",
              "}\n",
              "\n",
              "#sk-container-id-1 div.sk-toggleable__content.fitted pre {\n",
              "  /* unfitted */\n",
              "  background-color: var(--sklearn-color-fitted-level-0);\n",
              "}\n",
              "\n",
              "#sk-container-id-1 input.sk-toggleable__control:checked~div.sk-toggleable__content {\n",
              "  /* Expand drop-down */\n",
              "  max-height: 200px;\n",
              "  max-width: 100%;\n",
              "  overflow: auto;\n",
              "}\n",
              "\n",
              "#sk-container-id-1 input.sk-toggleable__control:checked~label.sk-toggleable__label-arrow:before {\n",
              "  content: \"▾\";\n",
              "}\n",
              "\n",
              "/* Pipeline/ColumnTransformer-specific style */\n",
              "\n",
              "#sk-container-id-1 div.sk-label input.sk-toggleable__control:checked~label.sk-toggleable__label {\n",
              "  color: var(--sklearn-color-text);\n",
              "  background-color: var(--sklearn-color-unfitted-level-2);\n",
              "}\n",
              "\n",
              "#sk-container-id-1 div.sk-label.fitted input.sk-toggleable__control:checked~label.sk-toggleable__label {\n",
              "  background-color: var(--sklearn-color-fitted-level-2);\n",
              "}\n",
              "\n",
              "/* Estimator-specific style */\n",
              "\n",
              "/* Colorize estimator box */\n",
              "#sk-container-id-1 div.sk-estimator input.sk-toggleable__control:checked~label.sk-toggleable__label {\n",
              "  /* unfitted */\n",
              "  background-color: var(--sklearn-color-unfitted-level-2);\n",
              "}\n",
              "\n",
              "#sk-container-id-1 div.sk-estimator.fitted input.sk-toggleable__control:checked~label.sk-toggleable__label {\n",
              "  /* fitted */\n",
              "  background-color: var(--sklearn-color-fitted-level-2);\n",
              "}\n",
              "\n",
              "#sk-container-id-1 div.sk-label label.sk-toggleable__label,\n",
              "#sk-container-id-1 div.sk-label label {\n",
              "  /* The background is the default theme color */\n",
              "  color: var(--sklearn-color-text-on-default-background);\n",
              "}\n",
              "\n",
              "/* On hover, darken the color of the background */\n",
              "#sk-container-id-1 div.sk-label:hover label.sk-toggleable__label {\n",
              "  color: var(--sklearn-color-text);\n",
              "  background-color: var(--sklearn-color-unfitted-level-2);\n",
              "}\n",
              "\n",
              "/* Label box, darken color on hover, fitted */\n",
              "#sk-container-id-1 div.sk-label.fitted:hover label.sk-toggleable__label.fitted {\n",
              "  color: var(--sklearn-color-text);\n",
              "  background-color: var(--sklearn-color-fitted-level-2);\n",
              "}\n",
              "\n",
              "/* Estimator label */\n",
              "\n",
              "#sk-container-id-1 div.sk-label label {\n",
              "  font-family: monospace;\n",
              "  font-weight: bold;\n",
              "  display: inline-block;\n",
              "  line-height: 1.2em;\n",
              "}\n",
              "\n",
              "#sk-container-id-1 div.sk-label-container {\n",
              "  text-align: center;\n",
              "}\n",
              "\n",
              "/* Estimator-specific */\n",
              "#sk-container-id-1 div.sk-estimator {\n",
              "  font-family: monospace;\n",
              "  border: 1px dotted var(--sklearn-color-border-box);\n",
              "  border-radius: 0.25em;\n",
              "  box-sizing: border-box;\n",
              "  margin-bottom: 0.5em;\n",
              "  /* unfitted */\n",
              "  background-color: var(--sklearn-color-unfitted-level-0);\n",
              "}\n",
              "\n",
              "#sk-container-id-1 div.sk-estimator.fitted {\n",
              "  /* fitted */\n",
              "  background-color: var(--sklearn-color-fitted-level-0);\n",
              "}\n",
              "\n",
              "/* on hover */\n",
              "#sk-container-id-1 div.sk-estimator:hover {\n",
              "  /* unfitted */\n",
              "  background-color: var(--sklearn-color-unfitted-level-2);\n",
              "}\n",
              "\n",
              "#sk-container-id-1 div.sk-estimator.fitted:hover {\n",
              "  /* fitted */\n",
              "  background-color: var(--sklearn-color-fitted-level-2);\n",
              "}\n",
              "\n",
              "/* Specification for estimator info (e.g. \"i\" and \"?\") */\n",
              "\n",
              "/* Common style for \"i\" and \"?\" */\n",
              "\n",
              ".sk-estimator-doc-link,\n",
              "a:link.sk-estimator-doc-link,\n",
              "a:visited.sk-estimator-doc-link {\n",
              "  float: right;\n",
              "  font-size: smaller;\n",
              "  line-height: 1em;\n",
              "  font-family: monospace;\n",
              "  background-color: var(--sklearn-color-background);\n",
              "  border-radius: 1em;\n",
              "  height: 1em;\n",
              "  width: 1em;\n",
              "  text-decoration: none !important;\n",
              "  margin-left: 1ex;\n",
              "  /* unfitted */\n",
              "  border: var(--sklearn-color-unfitted-level-1) 1pt solid;\n",
              "  color: var(--sklearn-color-unfitted-level-1);\n",
              "}\n",
              "\n",
              ".sk-estimator-doc-link.fitted,\n",
              "a:link.sk-estimator-doc-link.fitted,\n",
              "a:visited.sk-estimator-doc-link.fitted {\n",
              "  /* fitted */\n",
              "  border: var(--sklearn-color-fitted-level-1) 1pt solid;\n",
              "  color: var(--sklearn-color-fitted-level-1);\n",
              "}\n",
              "\n",
              "/* On hover */\n",
              "div.sk-estimator:hover .sk-estimator-doc-link:hover,\n",
              ".sk-estimator-doc-link:hover,\n",
              "div.sk-label-container:hover .sk-estimator-doc-link:hover,\n",
              ".sk-estimator-doc-link:hover {\n",
              "  /* unfitted */\n",
              "  background-color: var(--sklearn-color-unfitted-level-3);\n",
              "  color: var(--sklearn-color-background);\n",
              "  text-decoration: none;\n",
              "}\n",
              "\n",
              "div.sk-estimator.fitted:hover .sk-estimator-doc-link.fitted:hover,\n",
              ".sk-estimator-doc-link.fitted:hover,\n",
              "div.sk-label-container:hover .sk-estimator-doc-link.fitted:hover,\n",
              ".sk-estimator-doc-link.fitted:hover {\n",
              "  /* fitted */\n",
              "  background-color: var(--sklearn-color-fitted-level-3);\n",
              "  color: var(--sklearn-color-background);\n",
              "  text-decoration: none;\n",
              "}\n",
              "\n",
              "/* Span, style for the box shown on hovering the info icon */\n",
              ".sk-estimator-doc-link span {\n",
              "  display: none;\n",
              "  z-index: 9999;\n",
              "  position: relative;\n",
              "  font-weight: normal;\n",
              "  right: .2ex;\n",
              "  padding: .5ex;\n",
              "  margin: .5ex;\n",
              "  width: min-content;\n",
              "  min-width: 20ex;\n",
              "  max-width: 50ex;\n",
              "  color: var(--sklearn-color-text);\n",
              "  box-shadow: 2pt 2pt 4pt #999;\n",
              "  /* unfitted */\n",
              "  background: var(--sklearn-color-unfitted-level-0);\n",
              "  border: .5pt solid var(--sklearn-color-unfitted-level-3);\n",
              "}\n",
              "\n",
              ".sk-estimator-doc-link.fitted span {\n",
              "  /* fitted */\n",
              "  background: var(--sklearn-color-fitted-level-0);\n",
              "  border: var(--sklearn-color-fitted-level-3);\n",
              "}\n",
              "\n",
              ".sk-estimator-doc-link:hover span {\n",
              "  display: block;\n",
              "}\n",
              "\n",
              "/* \"?\"-specific style due to the `<a>` HTML tag */\n",
              "\n",
              "#sk-container-id-1 a.estimator_doc_link {\n",
              "  float: right;\n",
              "  font-size: 1rem;\n",
              "  line-height: 1em;\n",
              "  font-family: monospace;\n",
              "  background-color: var(--sklearn-color-background);\n",
              "  border-radius: 1rem;\n",
              "  height: 1rem;\n",
              "  width: 1rem;\n",
              "  text-decoration: none;\n",
              "  /* unfitted */\n",
              "  color: var(--sklearn-color-unfitted-level-1);\n",
              "  border: var(--sklearn-color-unfitted-level-1) 1pt solid;\n",
              "}\n",
              "\n",
              "#sk-container-id-1 a.estimator_doc_link.fitted {\n",
              "  /* fitted */\n",
              "  border: var(--sklearn-color-fitted-level-1) 1pt solid;\n",
              "  color: var(--sklearn-color-fitted-level-1);\n",
              "}\n",
              "\n",
              "/* On hover */\n",
              "#sk-container-id-1 a.estimator_doc_link:hover {\n",
              "  /* unfitted */\n",
              "  background-color: var(--sklearn-color-unfitted-level-3);\n",
              "  color: var(--sklearn-color-background);\n",
              "  text-decoration: none;\n",
              "}\n",
              "\n",
              "#sk-container-id-1 a.estimator_doc_link.fitted:hover {\n",
              "  /* fitted */\n",
              "  background-color: var(--sklearn-color-fitted-level-3);\n",
              "}\n",
              "</style><div id=\"sk-container-id-1\" class=\"sk-top-container\"><div class=\"sk-text-repr-fallback\"><pre>LinearRegression()</pre><b>In a Jupyter environment, please rerun this cell to show the HTML representation or trust the notebook. <br />On GitHub, the HTML representation is unable to render, please try loading this page with nbviewer.org.</b></div><div class=\"sk-container\" hidden><div class=\"sk-item\"><div class=\"sk-estimator fitted sk-toggleable\"><input class=\"sk-toggleable__control sk-hidden--visually\" id=\"sk-estimator-id-1\" type=\"checkbox\" checked><label for=\"sk-estimator-id-1\" class=\"sk-toggleable__label fitted sk-toggleable__label-arrow fitted\">&nbsp;&nbsp;LinearRegression<a class=\"sk-estimator-doc-link fitted\" rel=\"noreferrer\" target=\"_blank\" href=\"https://scikit-learn.org/1.5/modules/generated/sklearn.linear_model.LinearRegression.html\">?<span>Documentation for LinearRegression</span></a><span class=\"sk-estimator-doc-link fitted\">i<span>Fitted</span></span></label><div class=\"sk-toggleable__content fitted\"><pre>LinearRegression()</pre></div> </div></div></div></div>"
            ]
          },
          "metadata": {},
          "execution_count": 44
        }
      ]
    },
    {
      "cell_type": "code",
      "source": [
        "test_pred_model_2 = model_2.predict(X_test_scaled)\n",
        "r2 = model_2.score(X_test_scaled, y_test)\n",
        "mse = mean_squared_error(y_true=y_test, y_pred=test_pred_model_2)\n",
        "mae = mean_absolute_error(y_true=y_test, y_pred=test_pred_model_2)\n",
        "\n",
        "print(f\"{r2=}\")\n",
        "print(f\"{mse=}\")\n",
        "print(f\"{mae=}\")"
      ],
      "metadata": {
        "id": "5S-Ql_OYPzXG",
        "colab": {
          "base_uri": "https://localhost:8080/"
        },
        "outputId": "ad8332bf-6afc-468f-8cf3-14713bc00865"
      },
      "execution_count": null,
      "outputs": [
        {
          "output_type": "stream",
          "name": "stdout",
          "text": [
            "r2=0.626547815333667\n",
            "mse=8215288026539.419\n",
            "mae=1062669.4268491261\n"
          ]
        }
      ]
    },
    {
      "cell_type": "code",
      "source": [
        "model_2.coef_"
      ],
      "metadata": {
        "id": "Ux515dnBZAjJ",
        "colab": {
          "base_uri": "https://localhost:8080/"
        },
        "outputId": "5eada1e7-e5fc-468a-e4d5-b1d4baf09939"
      },
      "execution_count": null,
      "outputs": [
        {
          "output_type": "execute_result",
          "data": {
            "text/plain": [
              "array([8984213.62022597,  321190.04066271])"
            ]
          },
          "metadata": {},
          "execution_count": 46
        }
      ]
    },
    {
      "cell_type": "code",
      "source": [
        "import plotly.express as px\n",
        "fig = px.bar(x=X.columns, y=model_2.coef_)\n",
        "fig.show()"
      ],
      "metadata": {
        "id": "HDrOeArzZJAN",
        "colab": {
          "base_uri": "https://localhost:8080/",
          "height": 542
        },
        "outputId": "b0dcfad6-1adf-4b48-8b7b-2ad65c0b6824"
      },
      "execution_count": null,
      "outputs": [
        {
          "output_type": "display_data",
          "data": {
            "text/html": [
              "<html>\n",
              "<head><meta charset=\"utf-8\" /></head>\n",
              "<body>\n",
              "    <div>            <script src=\"https://cdnjs.cloudflare.com/ajax/libs/mathjax/2.7.5/MathJax.js?config=TeX-AMS-MML_SVG\"></script><script type=\"text/javascript\">if (window.MathJax && window.MathJax.Hub && window.MathJax.Hub.Config) {window.MathJax.Hub.Config({SVG: {font: \"STIX-Web\"}});}</script>                <script type=\"text/javascript\">window.PlotlyConfig = {MathJaxConfig: 'local'};</script>\n",
              "        <script charset=\"utf-8\" src=\"https://cdn.plot.ly/plotly-2.35.2.min.js\"></script>                <div id=\"a5c8db93-f7e6-4a3e-90b1-941f786b3870\" class=\"plotly-graph-div\" style=\"height:525px; width:100%;\"></div>            <script type=\"text/javascript\">                                    window.PLOTLYENV=window.PLOTLYENV || {};                                    if (document.getElementById(\"a5c8db93-f7e6-4a3e-90b1-941f786b3870\")) {                    Plotly.newPlot(                        \"a5c8db93-f7e6-4a3e-90b1-941f786b3870\",                        [{\"alignmentgroup\":\"True\",\"hovertemplate\":\"x=%{x}\\u003cbr\\u003ey=%{y}\\u003cextra\\u003e\\u003c\\u002fextra\\u003e\",\"legendgroup\":\"\",\"marker\":{\"color\":\"#636efa\",\"pattern\":{\"shape\":\"\"}},\"name\":\"\",\"offsetgroup\":\"\",\"orientation\":\"v\",\"showlegend\":false,\"textposition\":\"auto\",\"x\":[\"likes\",\"comment_count\"],\"xaxis\":\"x\",\"y\":[8984213.620225972,321190.04066270706],\"yaxis\":\"y\",\"type\":\"bar\"}],                        {\"template\":{\"data\":{\"histogram2dcontour\":[{\"type\":\"histogram2dcontour\",\"colorbar\":{\"outlinewidth\":0,\"ticks\":\"\"},\"colorscale\":[[0.0,\"#0d0887\"],[0.1111111111111111,\"#46039f\"],[0.2222222222222222,\"#7201a8\"],[0.3333333333333333,\"#9c179e\"],[0.4444444444444444,\"#bd3786\"],[0.5555555555555556,\"#d8576b\"],[0.6666666666666666,\"#ed7953\"],[0.7777777777777778,\"#fb9f3a\"],[0.8888888888888888,\"#fdca26\"],[1.0,\"#f0f921\"]]}],\"choropleth\":[{\"type\":\"choropleth\",\"colorbar\":{\"outlinewidth\":0,\"ticks\":\"\"}}],\"histogram2d\":[{\"type\":\"histogram2d\",\"colorbar\":{\"outlinewidth\":0,\"ticks\":\"\"},\"colorscale\":[[0.0,\"#0d0887\"],[0.1111111111111111,\"#46039f\"],[0.2222222222222222,\"#7201a8\"],[0.3333333333333333,\"#9c179e\"],[0.4444444444444444,\"#bd3786\"],[0.5555555555555556,\"#d8576b\"],[0.6666666666666666,\"#ed7953\"],[0.7777777777777778,\"#fb9f3a\"],[0.8888888888888888,\"#fdca26\"],[1.0,\"#f0f921\"]]}],\"heatmap\":[{\"type\":\"heatmap\",\"colorbar\":{\"outlinewidth\":0,\"ticks\":\"\"},\"colorscale\":[[0.0,\"#0d0887\"],[0.1111111111111111,\"#46039f\"],[0.2222222222222222,\"#7201a8\"],[0.3333333333333333,\"#9c179e\"],[0.4444444444444444,\"#bd3786\"],[0.5555555555555556,\"#d8576b\"],[0.6666666666666666,\"#ed7953\"],[0.7777777777777778,\"#fb9f3a\"],[0.8888888888888888,\"#fdca26\"],[1.0,\"#f0f921\"]]}],\"heatmapgl\":[{\"type\":\"heatmapgl\",\"colorbar\":{\"outlinewidth\":0,\"ticks\":\"\"},\"colorscale\":[[0.0,\"#0d0887\"],[0.1111111111111111,\"#46039f\"],[0.2222222222222222,\"#7201a8\"],[0.3333333333333333,\"#9c179e\"],[0.4444444444444444,\"#bd3786\"],[0.5555555555555556,\"#d8576b\"],[0.6666666666666666,\"#ed7953\"],[0.7777777777777778,\"#fb9f3a\"],[0.8888888888888888,\"#fdca26\"],[1.0,\"#f0f921\"]]}],\"contourcarpet\":[{\"type\":\"contourcarpet\",\"colorbar\":{\"outlinewidth\":0,\"ticks\":\"\"}}],\"contour\":[{\"type\":\"contour\",\"colorbar\":{\"outlinewidth\":0,\"ticks\":\"\"},\"colorscale\":[[0.0,\"#0d0887\"],[0.1111111111111111,\"#46039f\"],[0.2222222222222222,\"#7201a8\"],[0.3333333333333333,\"#9c179e\"],[0.4444444444444444,\"#bd3786\"],[0.5555555555555556,\"#d8576b\"],[0.6666666666666666,\"#ed7953\"],[0.7777777777777778,\"#fb9f3a\"],[0.8888888888888888,\"#fdca26\"],[1.0,\"#f0f921\"]]}],\"surface\":[{\"type\":\"surface\",\"colorbar\":{\"outlinewidth\":0,\"ticks\":\"\"},\"colorscale\":[[0.0,\"#0d0887\"],[0.1111111111111111,\"#46039f\"],[0.2222222222222222,\"#7201a8\"],[0.3333333333333333,\"#9c179e\"],[0.4444444444444444,\"#bd3786\"],[0.5555555555555556,\"#d8576b\"],[0.6666666666666666,\"#ed7953\"],[0.7777777777777778,\"#fb9f3a\"],[0.8888888888888888,\"#fdca26\"],[1.0,\"#f0f921\"]]}],\"mesh3d\":[{\"type\":\"mesh3d\",\"colorbar\":{\"outlinewidth\":0,\"ticks\":\"\"}}],\"scatter\":[{\"fillpattern\":{\"fillmode\":\"overlay\",\"size\":10,\"solidity\":0.2},\"type\":\"scatter\"}],\"parcoords\":[{\"type\":\"parcoords\",\"line\":{\"colorbar\":{\"outlinewidth\":0,\"ticks\":\"\"}}}],\"scatterpolargl\":[{\"type\":\"scatterpolargl\",\"marker\":{\"colorbar\":{\"outlinewidth\":0,\"ticks\":\"\"}}}],\"bar\":[{\"error_x\":{\"color\":\"#2a3f5f\"},\"error_y\":{\"color\":\"#2a3f5f\"},\"marker\":{\"line\":{\"color\":\"#E5ECF6\",\"width\":0.5},\"pattern\":{\"fillmode\":\"overlay\",\"size\":10,\"solidity\":0.2}},\"type\":\"bar\"}],\"scattergeo\":[{\"type\":\"scattergeo\",\"marker\":{\"colorbar\":{\"outlinewidth\":0,\"ticks\":\"\"}}}],\"scatterpolar\":[{\"type\":\"scatterpolar\",\"marker\":{\"colorbar\":{\"outlinewidth\":0,\"ticks\":\"\"}}}],\"histogram\":[{\"marker\":{\"pattern\":{\"fillmode\":\"overlay\",\"size\":10,\"solidity\":0.2}},\"type\":\"histogram\"}],\"scattergl\":[{\"type\":\"scattergl\",\"marker\":{\"colorbar\":{\"outlinewidth\":0,\"ticks\":\"\"}}}],\"scatter3d\":[{\"type\":\"scatter3d\",\"line\":{\"colorbar\":{\"outlinewidth\":0,\"ticks\":\"\"}},\"marker\":{\"colorbar\":{\"outlinewidth\":0,\"ticks\":\"\"}}}],\"scattermapbox\":[{\"type\":\"scattermapbox\",\"marker\":{\"colorbar\":{\"outlinewidth\":0,\"ticks\":\"\"}}}],\"scatterternary\":[{\"type\":\"scatterternary\",\"marker\":{\"colorbar\":{\"outlinewidth\":0,\"ticks\":\"\"}}}],\"scattercarpet\":[{\"type\":\"scattercarpet\",\"marker\":{\"colorbar\":{\"outlinewidth\":0,\"ticks\":\"\"}}}],\"carpet\":[{\"aaxis\":{\"endlinecolor\":\"#2a3f5f\",\"gridcolor\":\"white\",\"linecolor\":\"white\",\"minorgridcolor\":\"white\",\"startlinecolor\":\"#2a3f5f\"},\"baxis\":{\"endlinecolor\":\"#2a3f5f\",\"gridcolor\":\"white\",\"linecolor\":\"white\",\"minorgridcolor\":\"white\",\"startlinecolor\":\"#2a3f5f\"},\"type\":\"carpet\"}],\"table\":[{\"cells\":{\"fill\":{\"color\":\"#EBF0F8\"},\"line\":{\"color\":\"white\"}},\"header\":{\"fill\":{\"color\":\"#C8D4E3\"},\"line\":{\"color\":\"white\"}},\"type\":\"table\"}],\"barpolar\":[{\"marker\":{\"line\":{\"color\":\"#E5ECF6\",\"width\":0.5},\"pattern\":{\"fillmode\":\"overlay\",\"size\":10,\"solidity\":0.2}},\"type\":\"barpolar\"}],\"pie\":[{\"automargin\":true,\"type\":\"pie\"}]},\"layout\":{\"autotypenumbers\":\"strict\",\"colorway\":[\"#636efa\",\"#EF553B\",\"#00cc96\",\"#ab63fa\",\"#FFA15A\",\"#19d3f3\",\"#FF6692\",\"#B6E880\",\"#FF97FF\",\"#FECB52\"],\"font\":{\"color\":\"#2a3f5f\"},\"hovermode\":\"closest\",\"hoverlabel\":{\"align\":\"left\"},\"paper_bgcolor\":\"white\",\"plot_bgcolor\":\"#E5ECF6\",\"polar\":{\"bgcolor\":\"#E5ECF6\",\"angularaxis\":{\"gridcolor\":\"white\",\"linecolor\":\"white\",\"ticks\":\"\"},\"radialaxis\":{\"gridcolor\":\"white\",\"linecolor\":\"white\",\"ticks\":\"\"}},\"ternary\":{\"bgcolor\":\"#E5ECF6\",\"aaxis\":{\"gridcolor\":\"white\",\"linecolor\":\"white\",\"ticks\":\"\"},\"baxis\":{\"gridcolor\":\"white\",\"linecolor\":\"white\",\"ticks\":\"\"},\"caxis\":{\"gridcolor\":\"white\",\"linecolor\":\"white\",\"ticks\":\"\"}},\"coloraxis\":{\"colorbar\":{\"outlinewidth\":0,\"ticks\":\"\"}},\"colorscale\":{\"sequential\":[[0.0,\"#0d0887\"],[0.1111111111111111,\"#46039f\"],[0.2222222222222222,\"#7201a8\"],[0.3333333333333333,\"#9c179e\"],[0.4444444444444444,\"#bd3786\"],[0.5555555555555556,\"#d8576b\"],[0.6666666666666666,\"#ed7953\"],[0.7777777777777778,\"#fb9f3a\"],[0.8888888888888888,\"#fdca26\"],[1.0,\"#f0f921\"]],\"sequentialminus\":[[0.0,\"#0d0887\"],[0.1111111111111111,\"#46039f\"],[0.2222222222222222,\"#7201a8\"],[0.3333333333333333,\"#9c179e\"],[0.4444444444444444,\"#bd3786\"],[0.5555555555555556,\"#d8576b\"],[0.6666666666666666,\"#ed7953\"],[0.7777777777777778,\"#fb9f3a\"],[0.8888888888888888,\"#fdca26\"],[1.0,\"#f0f921\"]],\"diverging\":[[0,\"#8e0152\"],[0.1,\"#c51b7d\"],[0.2,\"#de77ae\"],[0.3,\"#f1b6da\"],[0.4,\"#fde0ef\"],[0.5,\"#f7f7f7\"],[0.6,\"#e6f5d0\"],[0.7,\"#b8e186\"],[0.8,\"#7fbc41\"],[0.9,\"#4d9221\"],[1,\"#276419\"]]},\"xaxis\":{\"gridcolor\":\"white\",\"linecolor\":\"white\",\"ticks\":\"\",\"title\":{\"standoff\":15},\"zerolinecolor\":\"white\",\"automargin\":true,\"zerolinewidth\":2},\"yaxis\":{\"gridcolor\":\"white\",\"linecolor\":\"white\",\"ticks\":\"\",\"title\":{\"standoff\":15},\"zerolinecolor\":\"white\",\"automargin\":true,\"zerolinewidth\":2},\"scene\":{\"xaxis\":{\"backgroundcolor\":\"#E5ECF6\",\"gridcolor\":\"white\",\"linecolor\":\"white\",\"showbackground\":true,\"ticks\":\"\",\"zerolinecolor\":\"white\",\"gridwidth\":2},\"yaxis\":{\"backgroundcolor\":\"#E5ECF6\",\"gridcolor\":\"white\",\"linecolor\":\"white\",\"showbackground\":true,\"ticks\":\"\",\"zerolinecolor\":\"white\",\"gridwidth\":2},\"zaxis\":{\"backgroundcolor\":\"#E5ECF6\",\"gridcolor\":\"white\",\"linecolor\":\"white\",\"showbackground\":true,\"ticks\":\"\",\"zerolinecolor\":\"white\",\"gridwidth\":2}},\"shapedefaults\":{\"line\":{\"color\":\"#2a3f5f\"}},\"annotationdefaults\":{\"arrowcolor\":\"#2a3f5f\",\"arrowhead\":0,\"arrowwidth\":1},\"geo\":{\"bgcolor\":\"white\",\"landcolor\":\"#E5ECF6\",\"subunitcolor\":\"white\",\"showland\":true,\"showlakes\":true,\"lakecolor\":\"white\"},\"title\":{\"x\":0.05},\"mapbox\":{\"style\":\"light\"}}},\"xaxis\":{\"anchor\":\"y\",\"domain\":[0.0,1.0],\"title\":{\"text\":\"x\"}},\"yaxis\":{\"anchor\":\"x\",\"domain\":[0.0,1.0],\"title\":{\"text\":\"y\"}},\"legend\":{\"tracegroupgap\":0},\"margin\":{\"t\":60},\"barmode\":\"relative\"},                        {\"responsive\": true}                    ).then(function(){\n",
              "                            \n",
              "var gd = document.getElementById('a5c8db93-f7e6-4a3e-90b1-941f786b3870');\n",
              "var x = new MutationObserver(function (mutations, observer) {{\n",
              "        var display = window.getComputedStyle(gd).display;\n",
              "        if (!display || display === 'none') {{\n",
              "            console.log([gd, 'removed!']);\n",
              "            Plotly.purge(gd);\n",
              "            observer.disconnect();\n",
              "        }}\n",
              "}});\n",
              "\n",
              "// Listen for the removal of the full notebook cells\n",
              "var notebookContainer = gd.closest('#notebook-container');\n",
              "if (notebookContainer) {{\n",
              "    x.observe(notebookContainer, {childList: true});\n",
              "}}\n",
              "\n",
              "// Listen for the clearing of the current output cell\n",
              "var outputEl = gd.closest('.output');\n",
              "if (outputEl) {{\n",
              "    x.observe(outputEl, {childList: true});\n",
              "}}\n",
              "\n",
              "                        })                };                            </script>        </div>\n",
              "</body>\n",
              "</html>"
            ]
          },
          "metadata": {}
        }
      ]
    },
    {
      "cell_type": "code",
      "source": [
        "import plotly.express as px\n",
        "fig = px.scatter(df, \"likes\", \"comment_count\")\n",
        "fig.show()"
      ],
      "metadata": {
        "id": "CC0NGC3NXABu",
        "colab": {
          "base_uri": "https://localhost:8080/",
          "height": 542
        },
        "outputId": "245dfd53-1301-400a-b2d6-9be022bd6d2b"
      },
      "execution_count": null,
      "outputs": [
        {
          "output_type": "display_data",
          "data": {
            "text/html": [
              "<html>\n",
              "<head><meta charset=\"utf-8\" /></head>\n",
              "<body>\n",
              "    <div>            <script src=\"https://cdnjs.cloudflare.com/ajax/libs/mathjax/2.7.5/MathJax.js?config=TeX-AMS-MML_SVG\"></script><script type=\"text/javascript\">if (window.MathJax && window.MathJax.Hub && window.MathJax.Hub.Config) {window.MathJax.Hub.Config({SVG: {font: \"STIX-Web\"}});}</script>                <script type=\"text/javascript\">window.PlotlyConfig = {MathJaxConfig: 'local'};</script>\n",
              "        <script charset=\"utf-8\" src=\"https://cdn.plot.ly/plotly-2.35.2.min.js\"></script>                <div id=\"1803f0a7-1ae2-4602-82db-fb507baf02d6\" class=\"plotly-graph-div\" style=\"height:525px; width:100%;\"></div>            <script type=\"text/javascript\">                                    window.PLOTLYENV=window.PLOTLYENV || {};                                    if (document.getElementById(\"1803f0a7-1ae2-4602-82db-fb507baf02d6\")) {                    Plotly.newPlot(                        \"1803f0a7-1ae2-4602-82db-fb507baf02d6\",                        [{\"hovertemplate\":\"likes=%{x}\\u003cbr\\u003ecomment_count=%{y}\\u003cextra\\u003e\\u003c\\u002fextra\\u003e\",\"legendgroup\":\"\",\"marker\":{\"color\":\"#636efa\",\"symbol\":\"circle\"},\"mode\":\"markers\",\"name\":\"\",\"showlegend\":false,\"x\":[80104,47657,175534,18976,49932,16116,14119,175572,31760,55525,43583,19803,44590,20082,16353,23219,24232,15305,12888,36424,1702507,1702505,1702505,1702507,1702507,2067090,1702507,1702507,1702505,26871,9238,14697,23250,23250,17016,31100,1585,9585,225652,123464,8754,31675,96743,288433,288433,288433,137370,137370,58111,23887,291103,291099,291103,20420,20420,20420,20420,175684,175683,175683,63456,47222,87116,87116,12235,89144,275278,259256,0,12528,30817,30817,30817,62135,59943,676100,676100,676100,110014,122320,17447,67211,248541,248541,248532,412804,412804,412804,412804,412804,36075,42840,265740,12459,12970,5606,4519,15131,64773,192184,192183,192183,37314,47430,31946,8611,8454,54285,11446,26248,25074,15615,362480,362480,362480,26541,37783,37783,28545,87543,7855,7855,32594,41203,50636,3644,4895,20530,60893,1494885,1494886,1494885,6597,55982,55982,55982,17531,18066,11052,43299,43836,60225,4611,5889,3831,27169,40158,39900,12097,4086,33784,34385,99158,39408,12606,11324,39100,138305,29052,64412,64412,23450,85535,27272,27272,27272,2363,7684,5659,14934,21233,26845,33890,80585,142753,104867,28023,20430,617481,617481,6737,19764,89963,37414,152609,152609,152609,8624,58869,24590,224087,105100,0,38744,17227,4457,730,5143,4686,352990,352990,352991,352990,352991,352990,34736,29572,2372,18273,30805,13614,290186,10656,14184,26177,32386,216636,216636,216637,216636,63574,121228,33168,10124,81221,13428,52767,33107,36298,190179,190179,190179,6073,24071,24071,25957,25957,148356,2184,18112,17653,15699,44885,10065,39947,7996,260965,915122,915122,915121,260965,915122,915122,214306,915122,915121,322842,19014,4876,102657,6795,21983,34523,18210,7793,93381,93381,9539,2346,92877,12601,4363,3520,13064,46008,47287,146664,47847,9617,29057,31667,39431,36385,32156,27631,258883,10855,258873,15591,80715,344577,344577,344576,138557,344577,344577,344576,52975,19497,23971,51824,18476,93712,86273,113080,88239,23759,167973,172916,160772,12136,210760,7435,47634,58589,31965,36035,59513,288757,122478,29801,14541,25450,20543,4898,16118,31146,47514,34157,106403,9418,11319,23495,23550,4979,10698,80534,8960,44070,44070,44070,6456,0,16151,16151,16151,17845,26453,28703,28703,28703,118342,12405,5911,25965,5080,352381,3452,37980,37980,37980,123140,83073,83066,83066,786,0,13483,8181,13483,8181,20389,19485,14303,43676,3974,5618,52681,122683,6885,7181,129279,129279,6651,27328,3765,12831,105105,40531,46402,57591,17296,180178,6397,11214,48325,2581,113977,8236,27697,25639,8345,8345,8345,61985,15652,17729,19485,15941,15941,15941,15198,15198,15198,6766,24671,13274,2504,2504,2504,43776,43776,6530,4021,14800,2708,4509,118419,3371,3371,3371,12535,3857,3857,3857,25016,25016,25016,8395,148190,129774,14066,13807,13807,13807,29574,20826,17320,18887,9586,8318,16443,41416,10296,16443,10296,16443,16443,10296,55762,63372,164618,21577,12621,21349,21347,21347,27765,27765,27766,27765,16262,2212,33979,4754,23853,9975,63825,63824,63824,77612,50567,57709,57709,57709,5367,20243,29984,29984,29984,1332,1332,1332,16077,18257,32822,4649,71500,39312,111260,103615,70405,121595,121595,121595,40386,66306,66306,19123,19123,19123,70082,42536,18564,7916,15173,7271,27237,140469,140469,140469,37664,69446,419654,572737,223162,572737,419654,254465,254465,419654,572737,223168,419655,572737,419655,419654,419655,223168,254465,419654,4474,30956,151939,13972,13972,151940,13972,166798,13401,43366,43366,1252885,114432,110230,30434,30434,30434,30434,126013,1881,13270,270981,4549,2264,2264,4549,4549,2264,12613,12613,12613,16446,22180,85719,7995,7995,7995,8933,29417,26786,29417,26826,26826,26826,54589,54589,54589,49077,49077,49077,253553,17750,29325,29325,29325,16705,21111,11269,12457,92851,92851,8057,8057,8057,38045,38045,38045,38045,60443,60443,60443,60443,17359,17359,17359,25755,25755,25755,39380,12249,12249,12249,175914,86366,86366,86366,9201,53543,3631,2126,2143,18146,20003,20003,20003,42615,42615,42614,14949,53421,6934,9205,11064,11064,11064,11407,8024,2866,12680,12680,12680,65796,9016,0,0,19366,9846,9353,34109,34109,6467,8159,11855,13860,2271,114192,2016,6574,53751,45340,6260,18253,35588,36837,23231,22058,22058,23231,22058,23231,2326,2326,268340,1451,33104,33104,33104,8324,73985,8256,93117,6362,34514,15806,11653,11653,11653,2587,2587,2587,40151,30499,0,1070855,1070855,1070855,11218,40262,8658,615,70115,117545,70115,70115,117545,117545,117545,70115,117545,70839,7172,1518,1518,27835,6174,6174,6174,5590,576,2426,2426,23773,19616,47707,8891,25409,257,8366,48307,61237,30384,6180,6180,6180,48844,10424,4889,100636,12368,8725,16232,33763,17499,61740,61740,136681,33120,17242,5961,128197,15947,5686,34181,4377,6119,9765,9958,9352,9352,9352,9512,4505,5529,29715,19480,3041,3041,29295,14820,5102,7206,2835,172696,189902,203293,3011,973,20226,5884,5884,5884,2268051,561320,561317,2268051,561320,561320,561317,72835,72835,72835,37010,37010,4214,18509,793,444,8214,5944,8164,8833,8833,8164,8833,8164,8820,9846,2894,39177,5680,5680,5680,4768,4768,72190,45344,17243,20378,20378,20378,19384,21006,2092,14121,18016,2697,22999,13581,8809,17529,16079,10770,1357,809,5547,10440,49025,49025,7188,12881,12881,12881,2950,2950,26030,1342,8448,3680,7757,6376,3502,13624,4456,13348,11282,7845,7845,7845,6978,4192,2965,4876,7502,27520,2779,4198,8057,1955,6680,5411,4674,8899,5056,9966,29235,29235,12846,24781,8882,44048,44048,44048,15362,15362,15362,9366,12136,3437,2096,54868,5084,6688,45053,4817,53618,53617,53617,72012,32587,24061,1459,7641,36290,4615,20965,18416,60803,60803,60803,18360,13361,40374,194551,13596,100311,25065,20196,10231,18526,17742,18825,29182,29182,29182,150734,55561,45501,51410,53946,2764,8296,7176,7064,25748,8123,8123,8123,6345116,6345114,6345116,6345116,6345116,71474,13450,13450,13450,113164,52867,13961,34423,35610,20054,34421,20054,34421,35610,20054,36498,36498,36498,9077,9077,9077,18847,14887,14887,14887,27377,82568,71968,57629,463622,28396,23166,26550,67571,67571,67571,37119,37119,37119,5096,11609,67846,28067,38417,35659,100357,33214,37862,85952,27958,19276,3248,16260,21744,21744,21744,31877,31877,31877,4917,18910,8185,3135,11555,3668,111823,220095,21299,12752,15889,2228,46759,23875,19229,23730,9056,29637,37238,29606,11507,41612,11507,41612,29606,29606,11507,41612,60413,55785,17917,6202,306608,306608,306608,588677,941706,116970,51441,8742,56431,7948,10202,23163,28152,2012,38577,43375,13619,22359,81653,21961,77688,77688,77688,6773,100077,11054,22098,22098,22098,238308,238307,238307,1398,9024,9782,0,28765,28765,28765,24068,24068,24068,16726,16566,22516,54397,8120,530,3790,17511,17511,17511,22122,17297,57781,46391,12085,26107,9092,30657,25585,25585,25585,21936,8217,10457,11024,8952,28778,12012,52663,33017,128014,157901,47525,9383,14867,8478,37189,37374,42911,64040,64040,64040,18410,562547,78305,78305,78305,45662,43118,11149,26514,59543,46916,42355,89832,216258,13996,31949,406,7610,13894,63693,31640,36543,2903,10390,67275,131734,22222,33989,33989,33989,12444,7522,21420,40427,24169,57520,32499,61188,155655,13201,10562,176849,149022,138954,44139,13741,68078,68131,63130,12010,76199,82426,65712,117597,626,22524,16615,19984,12175,9569,21356,4680,332870,44397,15227,8538,14400,21940,13521,7185,75578,5888,7815,26784,21303,31742,6216,6387,22592,22423,11168,113374,113374,113374,2807,24895,59997,11442,14984,19515,3042,54155,32108,17222,19705,11817,1099,2214,11672,20983,12987,20253,11442,652,31442,50576,15792,8980,5505,13131,13131,13131,560629,125043,429800,4511,7140,48099,133181,13008,9890,32339,32754,6140,5128,14423,12769,7506,9445,9445,9445,29640,11458,3715,19757,5247,13877,10795,8271,13173,32607,725,20139,10744,102947,63969,20332,6431,377961,7318,7318,377958,377961,7318,377958,377961,3730,71336,8659,2889,18924,155954,110026,112839,4237,26735,14979,2026,6466,33086,63643,26377,6889,6653,14124,26273,32498,29605,22436,5133,11807,6646,8535,8729,11061,3330,4686,22575,4816,2308,6223,0,19757,2418,21612,15724,16440,8426,76195,68564,68564,68564,18015,8292,9559,9338,21806,10316,70008,3496,9534,7850,34654,5075,4873,9060,9787,66833,18934,5746,752294,18971,18971,18971,34489,8539,10313,126720,12207,24922,32488,12189,6323,17843,3033,86247,17559,17559,17559,19295,76751,32358,32358,32358,32358,19167,15669,12752,7667,7631,24651,181526,13854,5302,11885,20471,18022,18022,18022,16073,16073,16073,16930,28576,10413,13589,236516,35472,43302,9964,15323,430711,430682,256780,430682,256779,430711,430711,430682,256779,430682,4457,46025,46025,46025,42533,29300,29300,42533,29300,42533,11441,10754,11320,6784,5629,8649,52117,160269,40790,76170,46491,8345,8345,8345,19061,193568,35899,9436,4596,49092,7072,64259,36492,36492,64259,36492,64259,12093,16677,16218,14708,4294,84351,84351,84351,18410,17251,19306,19306,19306,39094,4128,2576,16323,16323,36399,36399,36399,21943,34820,11118,14760,2888,14951,8242,21881,10395,19627,14056,15144,7404,85204,6812,5023,21374,61968,19450,193502,42184,42184,42184,5123,5123,5123,16670,53868,75217,105461,105461,105461,31140,849949,13464,33012,7983,5989,7000,31817,11173,5910,1363,16265,165807,340816,169486,130398,29920,284,180181,2466,4481,2605,5619,5660,6439,9186,20650,20650,20650,3688,14895,1331681,597163,280888,30070,30069,30070,4566,0,16823,4564,11414,9974,121395,165164,204112,16024,24957,389724,51935,15706,440722,711764,67863,54764,4546,9812,24765,34464,2684,0,18651,6191,23698,4691,167457,16893,42333,42333,42333,8723,10029,60898,60873,36310,3107,95597,5552,25075,39693,55790,9915,4850,1981,40110,11998,15981,6055,47921,208823,15605,14038,40080,40080,40080,4521,17487,28371,4217,10501,9127,15973,2359,2572,5216,9360,22287,8317,5529,6419,14047,20071,45875,45875,13604,8538,34550,35344,3809,33209,12300,12300,10685,100291,100291,100291,0,0,5360,5360,5360,0,1103,1103,3485,5107,5107,5107,12769,6873,58411,9892,58411,9892,3774,41190,1753,8381,8381,8381,1493,2658,5062,5215,33205,33205,33205,1718,35451,8008,8008,8008,12759,7404,2059,17200,3775,18005,5702,11654,4999,13113,13113,6036,751,7507,7507,1091,4030,2280,4501,52602,12956,2105,3817,13632,9198,1602,10104,25643,11966,17761,71811,9289,18299,7346,5470,60092,19810,154536,2564,4710,4085,9343,11530,27197,12560,11487,7157,26625,22665,38713,38713,38713,10341,10299,37591,37591,37591,68912,68911,68911,4299,9805,77962,77962,77962,81993,81993,81993,36330,17045,17045,17045,13313,1720,15731,15731,34063,633386,35326,26377,33914,2049,68092,826770,21957,21957,21957,154195,29364,9758,48519,9144,4139,199414,28716,60566,72248,60563,72248,72248,72248,60563,51333,51333,51333,6364,11795,25667,58868,58868,58868,7955,13937,33834,95893,95893,95893,7148,31460,42975,8600,21907,36968,1274,72287,19599,8695,23593,28029,5813,12437,12437,12437,315557,315557,47384,38663,42818,8560,33225,12470,3666,5889,191225,191225,191225,10331,105438,105437,105438,14928,11727,8548,83406,6398,51200,51200,51200,3583,13467,18962,30837,15972],\"xaxis\":\"x\",\"y\":[2117,4241,3745,2203,1947,498,564,21400,1541,1723,6371,2945,2124,1505,1352,694,1597,549,834,4869,76422,76422,76422,76422,76422,117932,76422,76422,76422,797,449,511,1160,1160,1472,895,173,338,14852,5027,334,821,5619,34481,34481,34481,4779,4779,3421,1708,30553,30553,30553,2721,2721,2721,2721,7596,7596,7596,2702,1769,6794,6794,2747,1586,6643,7986,0,477,3006,3006,3006,7129,3070,57153,57153,57153,7504,7581,875,3456,12046,12046,12046,25227,25227,25227,25227,25227,1068,1970,39745,200,526,834,790,3808,2907,9948,9948,9948,1556,1352,2587,1147,590,6035,2174,397,1223,544,52940,52940,52940,1297,2177,2177,1161,31298,863,863,1914,2138,2345,135,276,4796,1479,134004,134004,134004,467,3941,3941,3941,753,3305,296,2266,1451,1561,89,279,81,897,1098,1307,1424,71,0,1127,2619,11276,735,1634,789,4928,7033,3914,3914,2405,3894,1883,1883,1883,41,249,176,494,2388,3292,1723,4614,4101,2676,972,1041,51664,51664,460,738,5573,560,5538,5538,5538,500,4218,3021,16748,2750,12979,1856,589,331,124,298,285,26338,26338,26338,26338,26338,26338,1139,721,215,726,1619,2575,6326,3077,6175,4678,3113,5909,5909,5909,5909,2269,3637,4440,694,1430,2219,3154,4757,1719,6331,6331,6331,298,4077,4077,834,834,8267,95,738,5959,897,1997,2582,3159,521,8753,93017,93017,93017,8753,93017,93017,10479,93017,93017,5638,2501,405,17448,299,2379,636,1933,329,3549,3549,301,145,5308,552,445,14,758,4685,1370,2897,1576,169,2494,619,1018,767,892,731,24842,280,24842,167,4572,13663,13663,13663,3735,13663,13663,13663,3289,2207,3569,13264,1952,9654,6953,1907,3200,344,1711,1283,2533,751,3124,249,1089,211,1505,1552,295,980,10157,27,1212,2225,2959,230,1698,1688,4185,1914,6092,276,239,2577,584,787,284,6289,272,2659,2659,2659,125,1158,2453,2453,2453,729,1832,1308,1308,1308,5702,991,399,618,399,13263,92,2149,2149,2149,1324,4548,4547,4547,13,225,1605,1186,1605,1186,500,2798,575,2500,129,172,2315,13326,542,1403,4318,4318,115,1072,148,42,3044,1780,0,1576,880,1970,460,813,2463,96,5411,567,1461,802,413,413,413,1906,594,1875,912,1014,1014,1014,841,841,841,303,466,1824,210,210,210,1731,1731,357,116,411,204,465,13734,305,305,305,1861,178,178,178,4772,4772,4772,1443,5510,3482,189,910,910,910,1592,582,1825,1825,1202,733,705,2879,438,705,438,705,705,438,723,823,3107,502,527,2144,2144,2144,1184,1184,1184,1184,966,35,1686,151,1023,469,2435,2435,2435,3518,2268,5240,5240,5240,70,1356,2304,2304,2304,220,220,220,667,773,3951,600,3877,3763,11582,3804,4701,2720,2720,2720,544,3198,3198,1886,1886,1886,771,539,593,445,730,328,2462,2949,2949,2949,1574,3058,31157,59306,6034,59306,31157,13002,13002,31157,59306,6034,31157,59306,31157,31157,31157,6034,13002,31157,495,2580,13700,997,997,13700,997,3013,197,1441,1441,36785,3835,3708,2242,2242,2242,2242,412,162,402,17316,1138,547,547,1138,1138,547,1594,1594,1594,204,0,1443,581,581,581,144,2966,2222,2966,16817,16817,16817,5226,5226,5226,5326,5326,5326,27482,464,4472,4472,4472,1477,161,126,67,6528,6528,1091,1091,1091,5978,5978,5978,5978,6715,6715,6715,6715,860,860,860,2537,2537,2537,1491,2804,2804,2804,801,5055,5055,5055,272,2051,349,260,492,272,2407,2407,2407,4425,4425,4425,3867,1591,488,1498,571,571,571,501,562,52,1577,1577,1577,2834,982,0,0,954,354,1147,4959,4959,423,606,469,1416,165,11592,271,425,1981,1019,166,628,2756,1342,3031,3589,3589,3031,3589,3031,211,211,55148,477,1855,1855,1855,313,11403,8,238,1623,1554,881,2000,2000,2000,2206,2206,2206,1517,2901,2122,4876,4876,4876,294,3725,749,89,3201,4522,3201,3201,4522,4522,4522,3201,4522,2183,752,672,672,3099,887,887,887,231,1017,717,717,4332,605,9751,1720,4907,21,992,1493,1765,636,3762,3762,3762,1380,672,251,1792,657,744,772,794,301,1581,1581,5186,1210,800,648,979,1807,788,7079,82,685,325,1223,973,973,973,654,636,1173,266,335,1503,1503,1510,221,478,1733,760,3960,4547,5256,55,64,910,1456,1456,1456,70497,23829,23829,70497,23829,23829,23829,3802,3802,3802,1964,1964,262,613,0,0,1545,661,1386,1476,1476,1386,1476,1386,1178,786,246,4598,628,628,628,630,630,3216,1209,1035,1569,1569,1569,412,949,96,678,1613,183,1139,744,814,828,777,1784,216,813,220,1662,1441,1441,1008,2387,2387,2387,872,872,3608,134,449,350,141,431,515,865,79,2788,1476,1461,1461,1461,1227,1020,346,865,823,710,22,231,450,395,46,221,272,550,264,900,1983,1983,620,1977,26,4240,4240,4240,2131,2131,2131,610,573,204,112,721,414,186,1606,343,3511,3511,3511,1428,304,2647,682,254,768,300,489,160,1732,1732,1732,337,969,2618,4009,1487,1627,248,1909,325,507,2629,5053,43312,43312,43312,1286,740,130,1458,1120,1709,327,75,148,5489,2951,2951,2951,96389,96389,96389,96389,96389,752,889,889,889,3991,4963,232,1768,1470,997,1768,997,1768,1470,997,1332,1332,1332,1029,1029,1029,816,3920,3920,3920,1008,72,1386,1599,5551,619,449,626,5276,5276,5276,3003,3003,3003,67,127,2595,2416,2296,1516,3584,1296,1279,890,1803,727,360,1165,2984,2984,2984,930,930,930,140,943,321,492,952,220,3029,9379,324,42,118,26,7895,1095,1876,1551,1130,981,504,8314,1966,11310,1966,11310,8314,8314,1966,11310,2774,3808,247,196,22164,22164,22164,14142,145924,5356,2355,1358,16575,476,759,1068,0,12,2314,2221,962,577,4815,553,3297,3297,3297,352,0,730,1171,1171,1171,11546,11546,11546,55,157,477,1350,1496,1496,1496,2766,2766,2766,357,345,1088,10952,563,4,410,1500,1500,1500,568,458,2160,1135,245,642,117,2063,4006,4006,4006,571,76,83,118,720,6664,2643,2571,949,5059,5508,1543,2438,1253,430,1194,1347,1219,7086,7086,7086,0,30189,14823,14823,14823,860,778,1132,524,2105,1066,1476,927,15302,3444,2537,2,1680,1518,2074,614,2925,50,312,10638,6983,494,3974,3974,3974,453,2178,76,706,353,1457,323,1930,13891,1129,445,5302,5814,5320,1022,318,1838,1549,1959,1421,941,1500,1306,2806,312,181,82,3094,1594,601,1419,322,7147,1562,863,1510,653,1088,661,286,11612,684,725,1687,1497,2173,177,196,1275,618,857,5874,5874,5874,3583,3884,4397,947,874,3676,90,2170,787,1883,656,703,692,1722,824,1391,540,394,243,65,1510,3423,779,540,93,666,666,666,337,349,107266,242,659,2545,12602,1305,1038,3864,1453,160,632,1284,2781,136,395,395,395,3027,912,842,1539,1083,345,322,284,1137,2345,34,1612,761,4954,2309,3323,305,29742,1046,1046,29741,29742,1046,29741,29742,532,2034,199,346,1852,13785,2681,3910,1736,1293,1582,88,459,705,2774,405,506,1519,2786,585,1122,539,906,314,923,250,1109,468,1745,142,302,106,589,58,213,991,2432,31,5,169,238,455,2007,7513,7513,7513,1521,1382,121,165,492,8,31,224,843,176,478,188,144,608,713,26,449,133,479,1407,1407,1407,11,389,595,2268,2,47,67,429,0,863,68,3236,1193,1193,1193,714,3185,1533,1533,1533,1533,514,325,596,470,549,234,76,1097,447,355,2164,2618,2618,2618,2970,2970,2970,645,390,797,1035,9204,3610,5372,1277,793,9479,9479,4898,9479,4898,9479,9479,9479,4898,9479,506,2416,2416,2416,4592,5367,5367,4592,5367,4592,245,613,702,4897,1684,630,3107,4427,1182,2424,1639,669,669,669,934,3262,1429,93,233,3281,1617,14341,4236,4236,14341,4236,14341,1912,266,947,543,504,4373,4373,4373,1022,678,1236,1236,1236,1976,69,85,1404,1404,3009,3009,3009,1151,22,5,1013,176,502,342,1837,1173,702,448,696,1157,1603,99,149,437,4616,1044,4345,2019,2019,2019,498,498,498,917,1882,2253,3815,3815,3815,1272,48283,1030,2110,280,236,218,612,203,260,229,337,12802,25519,1356,1538,2610,1,116,313,429,1287,599,313,651,272,2671,2671,2671,198,1043,68625,20888,26298,685,685,685,64,1782,881,9,661,543,3590,4136,5064,368,749,354,983,125,9916,21382,258,5509,213,1444,1283,1927,189,224,91,537,1605,507,4482,2666,4936,4936,4936,568,423,6792,5007,2832,147,29312,385,662,144,5269,433,254,130,2189,460,215,2347,1071,6472,512,630,3660,3660,3660,512,737,1614,326,1004,768,1021,203,292,352,2510,882,303,265,396,1064,1179,1728,1728,292,209,1031,726,95,16914,15195,15195,1324,14126,14126,14126,60,60,3022,3022,3022,314,1314,1314,1511,2187,2187,2187,0,1117,36945,7288,36945,7288,962,6304,779,4403,4403,4403,19,756,3571,516,4624,4624,4624,782,2235,4298,4298,4298,5139,473,1288,1749,659,1898,2362,5379,3391,4192,4192,338,637,0,0,633,367,379,170,3005,966,489,421,897,760,119,89,2002,1525,2058,19116,1586,1804,150,155,1756,1385,2853,221,650,439,616,975,2834,1788,493,261,1301,575,3237,3237,3237,1434,320,1021,1021,1021,4968,4968,4968,467,1711,6313,6313,6313,2591,2591,2591,3792,2796,2796,2796,1660,216,838,838,4284,36448,2533,3174,1342,33,5195,73052,980,980,980,7971,649,879,5721,798,3248,5647,78,3591,4911,3591,4911,4911,4911,3591,4044,4044,4044,606,448,1035,7074,7074,7074,2959,395,3485,4940,4940,4940,1749,0,5405,1033,996,869,0,0,888,297,920,881,563,338,338,338,6804,6804,2716,3651,2421,3748,2699,410,449,120,8713,8713,8713,772,6279,6279,6279,884,761,643,1677,990,3144,3144,3144,328,1467,2416,3979,211],\"yaxis\":\"y\",\"type\":\"scattergl\"}],                        {\"template\":{\"data\":{\"histogram2dcontour\":[{\"type\":\"histogram2dcontour\",\"colorbar\":{\"outlinewidth\":0,\"ticks\":\"\"},\"colorscale\":[[0.0,\"#0d0887\"],[0.1111111111111111,\"#46039f\"],[0.2222222222222222,\"#7201a8\"],[0.3333333333333333,\"#9c179e\"],[0.4444444444444444,\"#bd3786\"],[0.5555555555555556,\"#d8576b\"],[0.6666666666666666,\"#ed7953\"],[0.7777777777777778,\"#fb9f3a\"],[0.8888888888888888,\"#fdca26\"],[1.0,\"#f0f921\"]]}],\"choropleth\":[{\"type\":\"choropleth\",\"colorbar\":{\"outlinewidth\":0,\"ticks\":\"\"}}],\"histogram2d\":[{\"type\":\"histogram2d\",\"colorbar\":{\"outlinewidth\":0,\"ticks\":\"\"},\"colorscale\":[[0.0,\"#0d0887\"],[0.1111111111111111,\"#46039f\"],[0.2222222222222222,\"#7201a8\"],[0.3333333333333333,\"#9c179e\"],[0.4444444444444444,\"#bd3786\"],[0.5555555555555556,\"#d8576b\"],[0.6666666666666666,\"#ed7953\"],[0.7777777777777778,\"#fb9f3a\"],[0.8888888888888888,\"#fdca26\"],[1.0,\"#f0f921\"]]}],\"heatmap\":[{\"type\":\"heatmap\",\"colorbar\":{\"outlinewidth\":0,\"ticks\":\"\"},\"colorscale\":[[0.0,\"#0d0887\"],[0.1111111111111111,\"#46039f\"],[0.2222222222222222,\"#7201a8\"],[0.3333333333333333,\"#9c179e\"],[0.4444444444444444,\"#bd3786\"],[0.5555555555555556,\"#d8576b\"],[0.6666666666666666,\"#ed7953\"],[0.7777777777777778,\"#fb9f3a\"],[0.8888888888888888,\"#fdca26\"],[1.0,\"#f0f921\"]]}],\"heatmapgl\":[{\"type\":\"heatmapgl\",\"colorbar\":{\"outlinewidth\":0,\"ticks\":\"\"},\"colorscale\":[[0.0,\"#0d0887\"],[0.1111111111111111,\"#46039f\"],[0.2222222222222222,\"#7201a8\"],[0.3333333333333333,\"#9c179e\"],[0.4444444444444444,\"#bd3786\"],[0.5555555555555556,\"#d8576b\"],[0.6666666666666666,\"#ed7953\"],[0.7777777777777778,\"#fb9f3a\"],[0.8888888888888888,\"#fdca26\"],[1.0,\"#f0f921\"]]}],\"contourcarpet\":[{\"type\":\"contourcarpet\",\"colorbar\":{\"outlinewidth\":0,\"ticks\":\"\"}}],\"contour\":[{\"type\":\"contour\",\"colorbar\":{\"outlinewidth\":0,\"ticks\":\"\"},\"colorscale\":[[0.0,\"#0d0887\"],[0.1111111111111111,\"#46039f\"],[0.2222222222222222,\"#7201a8\"],[0.3333333333333333,\"#9c179e\"],[0.4444444444444444,\"#bd3786\"],[0.5555555555555556,\"#d8576b\"],[0.6666666666666666,\"#ed7953\"],[0.7777777777777778,\"#fb9f3a\"],[0.8888888888888888,\"#fdca26\"],[1.0,\"#f0f921\"]]}],\"surface\":[{\"type\":\"surface\",\"colorbar\":{\"outlinewidth\":0,\"ticks\":\"\"},\"colorscale\":[[0.0,\"#0d0887\"],[0.1111111111111111,\"#46039f\"],[0.2222222222222222,\"#7201a8\"],[0.3333333333333333,\"#9c179e\"],[0.4444444444444444,\"#bd3786\"],[0.5555555555555556,\"#d8576b\"],[0.6666666666666666,\"#ed7953\"],[0.7777777777777778,\"#fb9f3a\"],[0.8888888888888888,\"#fdca26\"],[1.0,\"#f0f921\"]]}],\"mesh3d\":[{\"type\":\"mesh3d\",\"colorbar\":{\"outlinewidth\":0,\"ticks\":\"\"}}],\"scatter\":[{\"fillpattern\":{\"fillmode\":\"overlay\",\"size\":10,\"solidity\":0.2},\"type\":\"scatter\"}],\"parcoords\":[{\"type\":\"parcoords\",\"line\":{\"colorbar\":{\"outlinewidth\":0,\"ticks\":\"\"}}}],\"scatterpolargl\":[{\"type\":\"scatterpolargl\",\"marker\":{\"colorbar\":{\"outlinewidth\":0,\"ticks\":\"\"}}}],\"bar\":[{\"error_x\":{\"color\":\"#2a3f5f\"},\"error_y\":{\"color\":\"#2a3f5f\"},\"marker\":{\"line\":{\"color\":\"#E5ECF6\",\"width\":0.5},\"pattern\":{\"fillmode\":\"overlay\",\"size\":10,\"solidity\":0.2}},\"type\":\"bar\"}],\"scattergeo\":[{\"type\":\"scattergeo\",\"marker\":{\"colorbar\":{\"outlinewidth\":0,\"ticks\":\"\"}}}],\"scatterpolar\":[{\"type\":\"scatterpolar\",\"marker\":{\"colorbar\":{\"outlinewidth\":0,\"ticks\":\"\"}}}],\"histogram\":[{\"marker\":{\"pattern\":{\"fillmode\":\"overlay\",\"size\":10,\"solidity\":0.2}},\"type\":\"histogram\"}],\"scattergl\":[{\"type\":\"scattergl\",\"marker\":{\"colorbar\":{\"outlinewidth\":0,\"ticks\":\"\"}}}],\"scatter3d\":[{\"type\":\"scatter3d\",\"line\":{\"colorbar\":{\"outlinewidth\":0,\"ticks\":\"\"}},\"marker\":{\"colorbar\":{\"outlinewidth\":0,\"ticks\":\"\"}}}],\"scattermapbox\":[{\"type\":\"scattermapbox\",\"marker\":{\"colorbar\":{\"outlinewidth\":0,\"ticks\":\"\"}}}],\"scatterternary\":[{\"type\":\"scatterternary\",\"marker\":{\"colorbar\":{\"outlinewidth\":0,\"ticks\":\"\"}}}],\"scattercarpet\":[{\"type\":\"scattercarpet\",\"marker\":{\"colorbar\":{\"outlinewidth\":0,\"ticks\":\"\"}}}],\"carpet\":[{\"aaxis\":{\"endlinecolor\":\"#2a3f5f\",\"gridcolor\":\"white\",\"linecolor\":\"white\",\"minorgridcolor\":\"white\",\"startlinecolor\":\"#2a3f5f\"},\"baxis\":{\"endlinecolor\":\"#2a3f5f\",\"gridcolor\":\"white\",\"linecolor\":\"white\",\"minorgridcolor\":\"white\",\"startlinecolor\":\"#2a3f5f\"},\"type\":\"carpet\"}],\"table\":[{\"cells\":{\"fill\":{\"color\":\"#EBF0F8\"},\"line\":{\"color\":\"white\"}},\"header\":{\"fill\":{\"color\":\"#C8D4E3\"},\"line\":{\"color\":\"white\"}},\"type\":\"table\"}],\"barpolar\":[{\"marker\":{\"line\":{\"color\":\"#E5ECF6\",\"width\":0.5},\"pattern\":{\"fillmode\":\"overlay\",\"size\":10,\"solidity\":0.2}},\"type\":\"barpolar\"}],\"pie\":[{\"automargin\":true,\"type\":\"pie\"}]},\"layout\":{\"autotypenumbers\":\"strict\",\"colorway\":[\"#636efa\",\"#EF553B\",\"#00cc96\",\"#ab63fa\",\"#FFA15A\",\"#19d3f3\",\"#FF6692\",\"#B6E880\",\"#FF97FF\",\"#FECB52\"],\"font\":{\"color\":\"#2a3f5f\"},\"hovermode\":\"closest\",\"hoverlabel\":{\"align\":\"left\"},\"paper_bgcolor\":\"white\",\"plot_bgcolor\":\"#E5ECF6\",\"polar\":{\"bgcolor\":\"#E5ECF6\",\"angularaxis\":{\"gridcolor\":\"white\",\"linecolor\":\"white\",\"ticks\":\"\"},\"radialaxis\":{\"gridcolor\":\"white\",\"linecolor\":\"white\",\"ticks\":\"\"}},\"ternary\":{\"bgcolor\":\"#E5ECF6\",\"aaxis\":{\"gridcolor\":\"white\",\"linecolor\":\"white\",\"ticks\":\"\"},\"baxis\":{\"gridcolor\":\"white\",\"linecolor\":\"white\",\"ticks\":\"\"},\"caxis\":{\"gridcolor\":\"white\",\"linecolor\":\"white\",\"ticks\":\"\"}},\"coloraxis\":{\"colorbar\":{\"outlinewidth\":0,\"ticks\":\"\"}},\"colorscale\":{\"sequential\":[[0.0,\"#0d0887\"],[0.1111111111111111,\"#46039f\"],[0.2222222222222222,\"#7201a8\"],[0.3333333333333333,\"#9c179e\"],[0.4444444444444444,\"#bd3786\"],[0.5555555555555556,\"#d8576b\"],[0.6666666666666666,\"#ed7953\"],[0.7777777777777778,\"#fb9f3a\"],[0.8888888888888888,\"#fdca26\"],[1.0,\"#f0f921\"]],\"sequentialminus\":[[0.0,\"#0d0887\"],[0.1111111111111111,\"#46039f\"],[0.2222222222222222,\"#7201a8\"],[0.3333333333333333,\"#9c179e\"],[0.4444444444444444,\"#bd3786\"],[0.5555555555555556,\"#d8576b\"],[0.6666666666666666,\"#ed7953\"],[0.7777777777777778,\"#fb9f3a\"],[0.8888888888888888,\"#fdca26\"],[1.0,\"#f0f921\"]],\"diverging\":[[0,\"#8e0152\"],[0.1,\"#c51b7d\"],[0.2,\"#de77ae\"],[0.3,\"#f1b6da\"],[0.4,\"#fde0ef\"],[0.5,\"#f7f7f7\"],[0.6,\"#e6f5d0\"],[0.7,\"#b8e186\"],[0.8,\"#7fbc41\"],[0.9,\"#4d9221\"],[1,\"#276419\"]]},\"xaxis\":{\"gridcolor\":\"white\",\"linecolor\":\"white\",\"ticks\":\"\",\"title\":{\"standoff\":15},\"zerolinecolor\":\"white\",\"automargin\":true,\"zerolinewidth\":2},\"yaxis\":{\"gridcolor\":\"white\",\"linecolor\":\"white\",\"ticks\":\"\",\"title\":{\"standoff\":15},\"zerolinecolor\":\"white\",\"automargin\":true,\"zerolinewidth\":2},\"scene\":{\"xaxis\":{\"backgroundcolor\":\"#E5ECF6\",\"gridcolor\":\"white\",\"linecolor\":\"white\",\"showbackground\":true,\"ticks\":\"\",\"zerolinecolor\":\"white\",\"gridwidth\":2},\"yaxis\":{\"backgroundcolor\":\"#E5ECF6\",\"gridcolor\":\"white\",\"linecolor\":\"white\",\"showbackground\":true,\"ticks\":\"\",\"zerolinecolor\":\"white\",\"gridwidth\":2},\"zaxis\":{\"backgroundcolor\":\"#E5ECF6\",\"gridcolor\":\"white\",\"linecolor\":\"white\",\"showbackground\":true,\"ticks\":\"\",\"zerolinecolor\":\"white\",\"gridwidth\":2}},\"shapedefaults\":{\"line\":{\"color\":\"#2a3f5f\"}},\"annotationdefaults\":{\"arrowcolor\":\"#2a3f5f\",\"arrowhead\":0,\"arrowwidth\":1},\"geo\":{\"bgcolor\":\"white\",\"landcolor\":\"#E5ECF6\",\"subunitcolor\":\"white\",\"showland\":true,\"showlakes\":true,\"lakecolor\":\"white\"},\"title\":{\"x\":0.05},\"mapbox\":{\"style\":\"light\"}}},\"xaxis\":{\"anchor\":\"y\",\"domain\":[0.0,1.0],\"title\":{\"text\":\"likes\"}},\"yaxis\":{\"anchor\":\"x\",\"domain\":[0.0,1.0],\"title\":{\"text\":\"comment_count\"}},\"legend\":{\"tracegroupgap\":0},\"margin\":{\"t\":60}},                        {\"responsive\": true}                    ).then(function(){\n",
              "                            \n",
              "var gd = document.getElementById('1803f0a7-1ae2-4602-82db-fb507baf02d6');\n",
              "var x = new MutationObserver(function (mutations, observer) {{\n",
              "        var display = window.getComputedStyle(gd).display;\n",
              "        if (!display || display === 'none') {{\n",
              "            console.log([gd, 'removed!']);\n",
              "            Plotly.purge(gd);\n",
              "            observer.disconnect();\n",
              "        }}\n",
              "}});\n",
              "\n",
              "// Listen for the removal of the full notebook cells\n",
              "var notebookContainer = gd.closest('#notebook-container');\n",
              "if (notebookContainer) {{\n",
              "    x.observe(notebookContainer, {childList: true});\n",
              "}}\n",
              "\n",
              "// Listen for the clearing of the current output cell\n",
              "var outputEl = gd.closest('.output');\n",
              "if (outputEl) {{\n",
              "    x.observe(outputEl, {childList: true});\n",
              "}}\n",
              "\n",
              "                        })                };                            </script>        </div>\n",
              "</body>\n",
              "</html>"
            ]
          },
          "metadata": {}
        }
      ]
    },
    {
      "cell_type": "code",
      "source": [
        "df"
      ],
      "metadata": {
        "id": "yWzOYTGnYj70"
      },
      "execution_count": null,
      "outputs": []
    },
    {
      "cell_type": "code",
      "source": [],
      "metadata": {
        "id": "E2e5xPzfXxYf"
      },
      "execution_count": null,
      "outputs": []
    }
  ]
}