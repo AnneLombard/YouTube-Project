{
  "cells": [
    {
      "cell_type": "code",
      "execution_count": null,
      "metadata": {
        "colab": {
          "base_uri": "https://localhost:8080/"
        },
        "id": "mxLsQazF9p1I",
        "outputId": "b9430463-a8a1-4df7-f9a6-ad7b89372a66"
      },
      "outputs": [
        {
          "name": "stdout",
          "output_type": "stream",
          "text": [
            "Requirement already satisfied: matplotlib-venn in /usr/local/lib/python3.10/dist-packages (1.1.1)\n",
            "Requirement already satisfied: matplotlib in /usr/local/lib/python3.10/dist-packages (from matplotlib-venn) (3.8.0)\n",
            "Requirement already satisfied: numpy in /usr/local/lib/python3.10/dist-packages (from matplotlib-venn) (1.26.4)\n",
            "Requirement already satisfied: scipy in /usr/local/lib/python3.10/dist-packages (from matplotlib-venn) (1.13.1)\n",
            "Requirement already satisfied: contourpy>=1.0.1 in /usr/local/lib/python3.10/dist-packages (from matplotlib->matplotlib-venn) (1.3.1)\n",
            "Requirement already satisfied: cycler>=0.10 in /usr/local/lib/python3.10/dist-packages (from matplotlib->matplotlib-venn) (0.12.1)\n",
            "Requirement already satisfied: fonttools>=4.22.0 in /usr/local/lib/python3.10/dist-packages (from matplotlib->matplotlib-venn) (4.55.3)\n",
            "Requirement already satisfied: kiwisolver>=1.0.1 in /usr/local/lib/python3.10/dist-packages (from matplotlib->matplotlib-venn) (1.4.7)\n",
            "Requirement already satisfied: packaging>=20.0 in /usr/local/lib/python3.10/dist-packages (from matplotlib->matplotlib-venn) (24.2)\n",
            "Requirement already satisfied: pillow>=6.2.0 in /usr/local/lib/python3.10/dist-packages (from matplotlib->matplotlib-venn) (11.0.0)\n",
            "Requirement already satisfied: pyparsing>=2.3.1 in /usr/local/lib/python3.10/dist-packages (from matplotlib->matplotlib-venn) (3.2.0)\n",
            "Requirement already satisfied: python-dateutil>=2.7 in /usr/local/lib/python3.10/dist-packages (from matplotlib->matplotlib-venn) (2.8.2)\n",
            "Requirement already satisfied: six>=1.5 in /usr/local/lib/python3.10/dist-packages (from python-dateutil>=2.7->matplotlib->matplotlib-venn) (1.17.0)\n",
            "Collecting isodate\n",
            "  Downloading isodate-0.7.2-py3-none-any.whl.metadata (11 kB)\n",
            "Downloading isodate-0.7.2-py3-none-any.whl (22 kB)\n",
            "Installing collected packages: isodate\n",
            "Successfully installed isodate-0.7.2\n",
            "Nombre de vidéos récupérées : 304\n",
            "Nombre de vidéos avec détails récupérées : 304\n",
            "Aperçu des données :       Video ID                                Title  \\\n",
            "0  8ggBYI-F2K0                  How Strong Is Tape?   \n",
            "1  URW7XTpR8iM      We Hit 100,000,000 Subscribers!   \n",
            "2  u1i_GTpuhUc  $1 vs $100,000,000 YouTuber Houses!   \n",
            "3  P9jqFr3TvSE   World’s Most DANGEROUS Theme Park!   \n",
            "4  LOxFNSvrU3g               How Strong is Tinfoil?   \n",
            "\n",
            "                                         Description        Published Date  \\\n",
            "0                                       Subscribe ❤️  2024-12-14T09:51:09Z   \n",
            "1                                       Subscribe ❤️  2024-12-11T18:14:44Z   \n",
            "2  We toured the most expensive and fun YouTube H...  2024-12-09T17:25:10Z   \n",
            "3                                       Subscribe ❤️  2024-11-27T21:06:25Z   \n",
            "4                                       Subscribe ❤️  2024-11-25T11:33:27Z   \n",
            "\n",
            "                                                Tags      Views    Likes  \\\n",
            "0  Stokes twins, Mrbeast, Fede, mark rober, Airra...   40445499  1619259   \n",
            "1  Stokes twins, Mrbeast, Fede, mark rober, Airra...    1902372   134268   \n",
            "2  Stokes twins, Mrbeast, Fede, mark rober, Airra...   30978111   738888   \n",
            "3  Stokes twins, Mrbeast, Fede, mark rober, Airra...  102117023  2591518   \n",
            "4  Stokes twins, Mrbeast, Fede, mark rober, Airra...   68462867  2315600   \n",
            "\n",
            "  Comments Duration  Product Placement  \n",
            "0     4151    00:24              False  \n",
            "1     1968    00:31              False  \n",
            "2    16435    30:04              False  \n",
            "3     5237    00:51              False  \n",
            "4     5040    00:30              False  \n",
            "Les données ont été exportées dans 'stokes_twins_videos.csv'.\n"
          ]
        }
      ],
      "source": [
        "!pip install matplotlib-venn\n",
        "!pip install isodate\n",
        "import requests\n",
        "import pandas as pd\n",
        "import isodate\n",
        "\n",
        "\n",
        "API_KEY = \"API key\"\n",
        "\n",
        "SEARCH_URL = \"https://www.googleapis.com/youtube/v3/search\"\n",
        "VIDEO_DETAILS_URL = \"https://www.googleapis.com/youtube/v3/videos\"\n",
        "channel_id = \"UCbp9MyKCTEww4CxEzc_Tp0Q\"  # ID de la chaîne cible\n",
        "\n",
        "video_ids = []\n",
        "next_page_token = None\n",
        "\n",
        "\n",
        "while True:\n",
        "    search_params = {\n",
        "        'part': 'snippet',\n",
        "        'channelId': channel_id,\n",
        "        'maxResults': 50,\n",
        "        'order': 'date',\n",
        "        'type': 'video',\n",
        "        'pageToken': next_page_token,\n",
        "        'key': API_KEY,\n",
        "    }\n",
        "    response = requests.get(SEARCH_URL, params=search_params)\n",
        "    search_data = response.json()\n",
        "\n",
        "    if 'items' not in search_data:\n",
        "        print(\"Erreur dans la récupération des vidéos :\", search_data)\n",
        "        break\n",
        "\n",
        "    video_ids.extend([item['id']['videoId'] for item in search_data['items']])\n",
        "\n",
        "    next_page_token = search_data.get('nextPageToken')\n",
        "    if not next_page_token:\n",
        "        break\n",
        "\n",
        "print(f\"Nombre de vidéos récupérées : {len(video_ids)}\")\n",
        "\n",
        "video_details = []\n",
        "\n",
        "def format_duration(iso_duration):\n",
        "    \"\"\"Formater la durée ISO 8601 en un format lisible (MM:SS).\"\"\"\n",
        "    try:\n",
        "        duration = isodate.parse_duration(iso_duration)\n",
        "        total_seconds = int(duration.total_seconds())\n",
        "        minutes, seconds = divmod(total_seconds, 60)\n",
        "        return f\"{minutes:02}:{seconds:02}\"\n",
        "    except:\n",
        "        return \"N/A\"\n",
        "\n",
        "for i in range(0, len(video_ids), 50):\n",
        "    video_id_chunk = \",\".join(video_ids[i:i+50])\n",
        "    details_params = {\n",
        "        'part': 'snippet,statistics,contentDetails',\n",
        "        'id': video_id_chunk,\n",
        "        'key': API_KEY,\n",
        "    }\n",
        "    details_response = requests.get(VIDEO_DETAILS_URL, params=details_params)\n",
        "    details_data = details_response.json()\n",
        "\n",
        "    if 'items' not in details_data:\n",
        "        print(\"Erreur dans la récupération des détails :\", details_data)\n",
        "        continue\n",
        "\n",
        "    for video in details_data['items']:\n",
        "        snippet = video['snippet']\n",
        "        statistics = video.get('statistics', {})\n",
        "        content_details = video.get('contentDetails', {})\n",
        "\n",
        "        video_details.append({\n",
        "            'Video ID': video['id'],\n",
        "            'Title': snippet['title'],\n",
        "            'Description': snippet['description'],\n",
        "            'Published Date': snippet['publishedAt'],\n",
        "            'Tags': \", \".join(snippet.get('tags', [])),\n",
        "            'Views': statistics.get('viewCount', 'N/A'),\n",
        "            'Likes': statistics.get('likeCount', 'N/A'),\n",
        "            'Comments': statistics.get('commentCount', 'N/A'),\n",
        "            'Duration': format_duration(content_details.get('duration', 'N/A')),\n",
        "            'Product Placement': content_details.get('hasCustomThumbnail', False)\n",
        "        })\n",
        "\n",
        "print(f\"Nombre de vidéos avec détails récupérées : {len(video_details)}\")\n",
        "\n",
        "if video_details:\n",
        "    df = pd.DataFrame(video_details)\n",
        "    print(\"Aperçu des données :\", df.head())\n",
        "    # df.to_csv(\"stokes_twins_videos.csv\", index=False)\n",
        "    print(\"Les données ont été exportées dans 'stokes_twins_videos.csv'.\")\n",
        "else:\n",
        "    print(\"Aucune donnée à exporter.\")\n"
      ]
    },
    {
      "cell_type": "code",
      "execution_count": null,
      "metadata": {
        "colab": {
          "base_uri": "https://localhost:8080/"
        },
        "id": "a43BgxYRfNE-",
        "outputId": "5983c16b-9185-41b2-f567-0d2909ebd067"
      },
      "outputs": [
        {
          "name": "stdout",
          "output_type": "stream",
          "text": [
            "<class 'pandas.core.frame.DataFrame'>\n",
            "RangeIndex: 304 entries, 0 to 303\n",
            "Data columns (total 10 columns):\n",
            " #   Column             Non-Null Count  Dtype \n",
            "---  ------             --------------  ----- \n",
            " 0   Video ID           304 non-null    object\n",
            " 1   Title              304 non-null    object\n",
            " 2   Description        304 non-null    object\n",
            " 3   Published Date     304 non-null    object\n",
            " 4   Tags               304 non-null    object\n",
            " 5   Views              304 non-null    object\n",
            " 6   Likes              304 non-null    object\n",
            " 7   Comments           304 non-null    object\n",
            " 8   Duration           304 non-null    object\n",
            " 9   Product Placement  304 non-null    bool  \n",
            "dtypes: bool(1), object(9)\n",
            "memory usage: 21.8+ KB\n"
          ]
        }
      ],
      "source": [
        "df.info()"
      ]
    },
    {
      "cell_type": "code",
      "execution_count": null,
      "metadata": {
        "colab": {
          "base_uri": "https://localhost:8080/"
        },
        "id": "6Ewf49Y5fQE8",
        "outputId": "048b0662-030c-4c43-ffdc-20637bacc889"
      },
      "outputs": [
        {
          "name": "stdout",
          "output_type": "stream",
          "text": [
            "<class 'pandas.core.frame.DataFrame'>\n",
            "RangeIndex: 304 entries, 0 to 303\n",
            "Data columns (total 10 columns):\n",
            " #   Column             Non-Null Count  Dtype              \n",
            "---  ------             --------------  -----              \n",
            " 0   Video ID           304 non-null    object             \n",
            " 1   Title              304 non-null    object             \n",
            " 2   Description        304 non-null    object             \n",
            " 3   Published Date     304 non-null    datetime64[ns, UTC]\n",
            " 4   Tags               304 non-null    object             \n",
            " 5   Views              304 non-null    int64              \n",
            " 6   Likes              304 non-null    int64              \n",
            " 7   Comments           304 non-null    object             \n",
            " 8   Duration           304 non-null    object             \n",
            " 9   Product Placement  304 non-null    bool               \n",
            "dtypes: bool(1), datetime64[ns, UTC](1), int64(2), object(6)\n",
            "memory usage: 21.8+ KB\n"
          ]
        }
      ],
      "source": [
        "# change dtypes \"Published Date\", \"Views\", \"Likes\"\n",
        "df_clean = df.copy()\n",
        "df_clean[[\"Views\", \"Likes\"]] = df_clean[[\"Views\", \"Likes\"]].astype(int)\n",
        "df_clean[\"Published Date\"] = pd.to_datetime(df_clean[\"Published Date\"])\n",
        "df_clean.info()\n"
      ]
    },
    {
      "cell_type": "code",
      "execution_count": null,
      "metadata": {
        "id": "AZOcM0Jnhcyf"
      },
      "outputs": [],
      "source": [
        "df_clean.to_csv(\"stokes_twins_videos.csv\", index= False)"
      ]
    },
    {
      "cell_type": "code",
      "execution_count": null,
      "metadata": {
        "colab": {
          "base_uri": "https://localhost:8080/"
        },
        "id": "cdfbLDZJh0cJ",
        "outputId": "2af0dffa-f9ea-46b2-a2f7-70c677f17909"
      },
      "outputs": [
        {
          "name": "stdout",
          "output_type": "stream",
          "text": [
            "<class 'pandas.core.frame.DataFrame'>\n",
            "RangeIndex: 304 entries, 0 to 303\n",
            "Data columns (total 9 columns):\n",
            " #   Column             Non-Null Count  Dtype              \n",
            "---  ------             --------------  -----              \n",
            " 0   Video ID           304 non-null    object             \n",
            " 1   Title              304 non-null    object             \n",
            " 2   Published Date     304 non-null    datetime64[ns, UTC]\n",
            " 3   Tags               304 non-null    object             \n",
            " 4   Views              304 non-null    int64              \n",
            " 5   Likes              304 non-null    int64              \n",
            " 6   Comments           304 non-null    object             \n",
            " 7   Duration           304 non-null    object             \n",
            " 8   Product Placement  304 non-null    bool               \n",
            "dtypes: bool(1), datetime64[ns, UTC](1), int64(2), object(5)\n",
            "memory usage: 19.4+ KB\n"
          ]
        }
      ],
      "source": [
        "# error downloading dataframe in big query\n",
        "# solution: drop \"Description\" column\n",
        "df_clean = df_clean.drop(\"Description\", axis= 1)\n",
        "df_clean.info()"
      ]
    },
    {
      "cell_type": "code",
      "execution_count": null,
      "metadata": {
        "id": "Ir9aZKL6iOx4"
      },
      "outputs": [],
      "source": [
        "df_clean.to_csv(\"stokes_twins_videos.csv\", index= False)"
      ]
    }
  ],
  "metadata": {
    "colab": {
      "provenance": []
    },
    "kernelspec": {
      "display_name": "Python 3",
      "name": "python3"
    },
    "language_info": {
      "name": "python"
    }
  },
  "nbformat": 4,
  "nbformat_minor": 0
}
